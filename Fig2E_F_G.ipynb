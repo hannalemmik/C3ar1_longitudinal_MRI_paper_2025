{
 "cells": [
  {
   "cell_type": "code",
   "execution_count": 5,
   "metadata": {},
   "outputs": [],
   "source": [
    "# basic imports\n",
    "import os\n",
    "import numpy as np\n",
    "import matplotlib.pyplot as plt\n",
    "import seaborn as sns\n",
    "import pandas as pd\n",
    "import statsmodels.api as sm\n",
    "import scipy.stats as stats\n",
    "from scipy.stats import kruskal, ttest_ind\n",
    "import scikit_posthocs as sp\n",
    "from statannot import add_stat_annotation\n",
    "import warnings\n",
    "\n",
    "# ignore warnings to keep output clean\n",
    "warnings.filterwarnings(\"ignore\", category=DeprecationWarning) \n",
    "warnings.simplefilter('ignore')\n",
    "\n",
    "# %matplotlib inline (not needed in scripts, fine in notebooks)\n",
    "\n",
    "# configure matplotlib fonts for illustrator editing\n",
    "plt.rcParams.update({\n",
    "    'pdf.fonttype': 42,\n",
    "    'font.size': 12,\n",
    "    'font.family': 'sans-serif',\n",
    "    'font.sans-serif': ['Arial'],\n",
    "})\n"
   ]
  },
  {
   "cell_type": "markdown",
   "metadata": {},
   "source": [
    "# Load data"
   ]
  },
  {
   "cell_type": "code",
   "execution_count": 6,
   "metadata": {},
   "outputs": [],
   "source": [
    "data_dir = '/Users/hannalemmik/Dropbox/C3ar1_longitudinal_MRI_paper_2025/data/'\n",
    "\n",
    "cohort2 = pd.read_excel(os.path.join(data_dir, 'volROI_Cohort2.xlsx'))\n",
    "cohort1_30 = pd.read_excel(os.path.join(data_dir, 'volROI_Cohort1_PND30.xlsx'))\n",
    "cohort1_90 = pd.read_excel(os.path.join(data_dir, 'volROI_Cohort1_PND90.xlsx'))\n",
    "cohort1_exvivo = pd.read_excel(os.path.join(data_dir, 'volROI_Cohort1_exvivo.xlsx'))\n",
    "\n",
    "# tidy\n",
    "cohort1_90 = cohort1_90.drop(columns=['group'])\n",
    "\n"
   ]
  },
  {
   "cell_type": "code",
   "execution_count": 7,
   "metadata": {},
   "outputs": [],
   "source": [
    "# melt dataframes and pivot back to make sure subject columns are in the right order\n",
    "def melt_and_pivot(df):\n",
    "    melted = pd.melt(df, id_vars=['subject', 'Genotype', 'Sex'], var_name='ROI_name', value_name='rel_vol')\n",
    "    reshaped = melted.pivot_table(index=['subject', 'Genotype', 'Sex'], columns='ROI_name', values='rel_vol').reset_index()\n",
    "    return reshaped\n",
    "\n",
    "cohort1_30 = melt_and_pivot(cohort1_30)\n",
    "cohort1_90 = melt_and_pivot(cohort1_90)\n",
    "cohort1_exvivo = melt_and_pivot(cohort1_exvivo)\n",
    "cohort2 = melt_and_pivot(cohort2)\n"
   ]
  },
  {
   "cell_type": "code",
   "execution_count": 8,
   "metadata": {},
   "outputs": [
    {
     "data": {
      "text/plain": [
       "Genotype  Sex\n",
       "KO        M      18\n",
       "WT        F      18\n",
       "          M      17\n",
       "KO        F      16\n",
       "Name: count, dtype: int64"
      ]
     },
     "execution_count": 8,
     "metadata": {},
     "output_type": "execute_result"
    }
   ],
   "source": [
    "value_counts = cohort1_90[['Genotype', 'Sex']].value_counts()\n",
    "value_counts"
   ]
  },
  {
   "cell_type": "code",
   "execution_count": 9,
   "metadata": {},
   "outputs": [
    {
     "data": {
      "text/plain": [
       "Genotype  Sex\n",
       "KO        M      17\n",
       "WT        F      17\n",
       "          M      17\n",
       "KO        F      16\n",
       "Name: count, dtype: int64"
      ]
     },
     "execution_count": 9,
     "metadata": {},
     "output_type": "execute_result"
    }
   ],
   "source": [
    "value_counts = cohort1_exvivo[['Genotype', 'Sex']].value_counts()\n",
    "value_counts"
   ]
  },
  {
   "cell_type": "code",
   "execution_count": 10,
   "metadata": {},
   "outputs": [
    {
     "data": {
      "text/plain": [
       "Genotype  Sex\n",
       "WT        M      11\n",
       "KO        M      10\n",
       "          F       8\n",
       "WT        F       8\n",
       "Name: count, dtype: int64"
      ]
     },
     "execution_count": 10,
     "metadata": {},
     "output_type": "execute_result"
    }
   ],
   "source": [
    "value_counts = cohort2[['Genotype', 'Sex']].value_counts()\n",
    "value_counts"
   ]
  },
  {
   "cell_type": "markdown",
   "metadata": {},
   "source": [
    "## Calculate coefficients of variations"
   ]
  },
  {
   "cell_type": "code",
   "execution_count": 11,
   "metadata": {},
   "outputs": [],
   "source": [
    "\n",
    "\n",
    "cmap2= ['#c0bec2','#915e95' ]"
   ]
  },
  {
   "cell_type": "code",
   "execution_count": 12,
   "metadata": {},
   "outputs": [],
   "source": [
    "# for each pair of groups, calculate coefficient of variation (cv)\n",
    "def compute_cv_table(df, genotype, label):\n",
    "    sub = df[df['Genotype'] == genotype]\n",
    "    data = sub.drop(['subject', 'Genotype', 'Sex'], axis=1).to_numpy()\n",
    "    stds = np.nanstd(data, axis=0)\n",
    "    means = np.nanmean(data, axis=0)\n",
    "    cv = stds / means\n",
    "    return pd.DataFrame({\n",
    "        'ROI_name': sub.drop(['subject', 'Genotype', 'Sex'], axis=1).columns,\n",
    "        'cv': cv,\n",
    "        'Group': label\n",
    "    })\n",
    "# build summary tables for plotting and statistics\n",
    "wt_30_cv = compute_cv_table(cohort1_30, 'WT', 'WT_30')\n",
    "hom_30_cv = compute_cv_table(cohort1_30, 'KO', 'HOM_30')\n",
    "df_30 = pd.concat([wt_30_cv, hom_30_cv], ignore_index=True)\n",
    "\n",
    "wt_90_cv = compute_cv_table(cohort1_90, 'WT', 'WT_90')\n",
    "hom_90_cv = compute_cv_table(cohort1_90, 'KO', 'HOM_90')\n",
    "df_90 = pd.concat([wt_90_cv, hom_90_cv], ignore_index=True)\n",
    "\n",
    "wt_exvivo_cv = compute_cv_table(cohort1_exvivo, 'WT', 'WT_exvivo')\n",
    "hom_exvivo_cv = compute_cv_table(cohort1_exvivo, 'KO', 'HOM_exvivo')\n",
    "df_exvivo = pd.concat([wt_exvivo_cv, hom_exvivo_cv], ignore_index=True)\n"
   ]
  },
  {
   "cell_type": "code",
   "execution_count": 13,
   "metadata": {},
   "outputs": [
    {
     "data": {
      "text/plain": [
       "array(['amygdala', 'arbor_vitae', 'auditory_cortex', 'bed_nuclei',\n",
       "       'cerebellar_cortex', 'cerebellar_nuclei',\n",
       "       'cerebellar_white_matter', 'cerebral_aqueduct', 'choroid_plexus',\n",
       "       'cingulate_cortex', 'claustrum', 'corpus_callosum',\n",
       "       'cortical_subplate', 'diagonal_band', 'dorsal_peduncular_area',\n",
       "       'entorhinal_cortex', 'fiber_tracts', 'fimbria_fornix', 'flocculus',\n",
       "       'fourth_ventricle', 'frontal_cortex',\n",
       "       'gustatory_and_visceral_cortex', 'habenula', 'hippocampus_dorsal',\n",
       "       'hippocampus_ventral', 'hypothalamus', 'inferior_colliculus',\n",
       "       'infralimbic_cortex', 'insular_cortex', 'internal_capsule',\n",
       "       'lateral_geniculate', 'lateral_ventricle', 'medial_geniculate',\n",
       "       'medulla', 'midbrain', 'midbrain_white_matter', 'motor_cortex',\n",
       "       'nodulus', 'nucleus_accumbens', 'nucleus_of_posterior_commussure',\n",
       "       'olfactory_cortex', 'olfactory_tracts', 'optic_tract',\n",
       "       'orbital_cortex', 'pallidum', 'parietal_cortex',\n",
       "       'pedunculopontine_nucleus', 'periaqueductal_gray',\n",
       "       'perirhinal_cortex', 'piriform_cortex', 'pons',\n",
       "       'postrhinal_cortex', 'prelimbic_cortex', 'pretectal', 'raphe',\n",
       "       'red_nucleus', 'reticular_nucleus', 'retrosplenial_cortex',\n",
       "       'secondary_sensory_cortex', 'sensory_cortex', 'septum',\n",
       "       'stria_terminalis_tracts', 'striatum', 'subiculum',\n",
       "       'substantia_nigra', 'superior_colliculus', 'taenia_tecta',\n",
       "       'thalamus', 'third_ventricle', 'visual_cortex', 'white_matter',\n",
       "       'zona_incerta'], dtype=object)"
      ]
     },
     "execution_count": 13,
     "metadata": {},
     "output_type": "execute_result"
    }
   ],
   "source": [
    "df_30['ROI_name'].unique()"
   ]
  },
  {
   "cell_type": "code",
   "execution_count": 14,
   "metadata": {},
   "outputs": [],
   "source": [
    "# remove csf regions from all dataframes\n",
    "csf_regions = [\n",
    "    'cerebral_aqueduct', 'choroid_plexus', 'fourth_ventricle',\n",
    "    'lateral_ventricle', 'periaqueductal_gray', 'third_ventricle'\n",
    "]\n",
    "df_30 = df_30[~df_30['ROI_name'].isin(csf_regions)]\n",
    "df_90 = df_90[~df_90['ROI_name'].isin(csf_regions)]\n",
    "df_exvivo = df_exvivo[~df_exvivo['ROI_name'].isin(csf_regions)]"
   ]
  },
  {
   "cell_type": "code",
   "execution_count": 17,
   "metadata": {},
   "outputs": [
    {
     "data": {
      "text/plain": [
       "array(['amygdala', 'arbor_vitae', 'auditory_cortex', 'bed_nuclei',\n",
       "       'cerebellar_cortex', 'cerebellar_nuclei',\n",
       "       'cerebellar_white_matter', 'cingulate_cortex', 'claustrum',\n",
       "       'corpus_callosum', 'cortical_subplate', 'diagonal_band',\n",
       "       'dorsal_peduncular_area', 'entorhinal_cortex', 'fiber_tracts',\n",
       "       'fimbria_fornix', 'flocculus', 'frontal_cortex',\n",
       "       'gustatory_and_visceral_cortex', 'habenula', 'hippocampus_dorsal',\n",
       "       'hippocampus_ventral', 'hypothalamus', 'inferior_colliculus',\n",
       "       'infralimbic_cortex', 'insular_cortex', 'internal_capsule',\n",
       "       'lateral_geniculate', 'medial_geniculate', 'medulla', 'midbrain',\n",
       "       'midbrain_white_matter', 'motor_cortex', 'nodulus',\n",
       "       'nucleus_accumbens', 'nucleus_of_posterior_commussure',\n",
       "       'olfactory_cortex', 'olfactory_tracts', 'optic_tract',\n",
       "       'orbital_cortex', 'pallidum', 'parietal_cortex',\n",
       "       'pedunculopontine_nucleus', 'perirhinal_cortex', 'piriform_cortex',\n",
       "       'pons', 'postrhinal_cortex', 'prelimbic_cortex', 'pretectal',\n",
       "       'raphe', 'red_nucleus', 'reticular_nucleus',\n",
       "       'retrosplenial_cortex', 'secondary_sensory_cortex',\n",
       "       'sensory_cortex', 'septum', 'stria_terminalis_tracts', 'striatum',\n",
       "       'subiculum', 'substantia_nigra', 'superior_colliculus',\n",
       "       'taenia_tecta', 'thalamus', 'visual_cortex', 'white_matter',\n",
       "       'zona_incerta'], dtype=object)"
      ]
     },
     "execution_count": 17,
     "metadata": {},
     "output_type": "execute_result"
    }
   ],
   "source": [
    "df_30['ROI_name'].unique()"
   ]
  },
  {
   "cell_type": "code",
   "execution_count": 15,
   "metadata": {},
   "outputs": [
    {
     "data": {
      "image/png": "[encoded data removed]",
      "text/plain": [
       "<Figure size 300x300 with 1 Axes>"
      ]
     },
     "metadata": {},
     "output_type": "display_data"
    },
    {
     "data": {
      "image/png": "[encoded data removed]",
      "text/plain": [
       "<Figure size 300x300 with 1 Axes>"
      ]
     },
     "metadata": {},
     "output_type": "display_data"
    },
    {
     "data": {
      "image/png": "[encoded data removed]",
      "text/plain": [
       "<Figure size 300x300 with 1 Axes>"
      ]
     },
     "metadata": {},
     "output_type": "display_data"
    }
   ],
   "source": [
    "def plot_cv_box(df, order, group_labels, save_path):\n",
    "    plt.figure(figsize=(3, 3))\n",
    "    ax = sns.boxplot(\n",
    "        data=df,\n",
    "        showfliers=False,\n",
    "        showcaps=False,\n",
    "        x=\"Group\",\n",
    "        y=\"cv\",\n",
    "        order=order,\n",
    "        palette=['darkgray', 'darkgray'],\n",
    "        boxprops={'facecolor': 'none', 'edgecolor': 'darkgray'},\n",
    "        width=0.4\n",
    "    )\n",
    "    sns.stripplot(\n",
    "        data=df,\n",
    "        x=\"Group\",\n",
    "        y=\"cv\",\n",
    "        order=order,\n",
    "        palette=cmap2,\n",
    "        size=4,\n",
    "        alpha=0.6,jitter=0.15,\n",
    "        ax=ax\n",
    "    )\n",
    "    # annotate mean line\n",
    "    overall_mean = df['cv'].mean()\n",
    "    plt.axhline(y=overall_mean, color='gray', linestyle=':')\n",
    "    plt.text(1.3, overall_mean, f'{overall_mean:.3f}', verticalalignment='center', color='gray')\n",
    "    plt.xticks(ticks=[0, 1], labels=group_labels)\n",
    "    ax.set(ylabel='CV')\n",
    "    plt.ylim([0, 0.12])\n",
    "    ax.yaxis.set_ticks(np.arange(0, 0.12, 0.05))\n",
    "    sns.despine()\n",
    "    plt.xlabel('')\n",
    "    plt.tight_layout()\n",
    "    plt.savefig(save_path, dpi=300)\n",
    "    plt.close()\n",
    "\n",
    "# define a generic hippocampus labeling function\n",
    "def label_hippocampus(df, group, ax, x_offset=0.18, y_offset=0.007):\n",
    "    group_data = df[df['Group'] == group]\n",
    "    dorsal = group_data[group_data['ROI_name'].str.contains('hippocampus_dorsal', case=False)]\n",
    "    ventral = group_data[group_data['ROI_name'].str.contains('hippocampus_ventral', case=False)]\n",
    "    x = 0 if group.startswith('WT') else 1\n",
    "    # annotate d hipp\n",
    "    for i, (_, row) in enumerate(dorsal.iterrows()):\n",
    "        ax.annotate('d hipp', xy=(x, row['cv']),\n",
    "            xytext=(x + x_offset, row['cv'] + (i + 1) * y_offset),\n",
    "            textcoords='data', ha='left', va='bottom', fontsize=8,\n",
    "            arrowprops=dict(arrowstyle='-|>', color='black', lw=1, shrinkA=1, shrinkB=1, mutation_scale=5))\n",
    "        # annotate v hipp\n",
    "    for i, (_, row) in enumerate(ventral.iterrows()):\n",
    "        ax.annotate('v hipp', xy=(x, row['cv']),\n",
    "            xytext=(x + x_offset, row['cv'] - (i + 1) * y_offset),\n",
    "            textcoords='data', ha='left', va='top', fontsize=8,\n",
    "            arrowprops=dict(arrowstyle='-|>', color='black', lw=1, shrinkA=1, shrinkB=1, mutation_scale=5))\n",
    "\n",
    "# plot and annotate each cohort\n",
    "for df, order, save_path in [\n",
    "    (df_30, ['WT_30', 'HOM_30'], '/Users/hannalemmik/Dropbox/KO_paper/volume/cv_PND30.pdf'),\n",
    "    (df_90, ['WT_90', 'HOM_90'], '/Users/hannalemmik/Dropbox/KO_paper/volume/cv_PND90.pdf'),\n",
    "    (df_exvivo, ['WT_exvivo', 'HOM_exvivo'], '/Users/hannalemmik/Dropbox/KO_paper/volume/cv_exvivo.pdf')\n",
    "]:\n",
    "    plt.figure(figsize=(3, 3))\n",
    "    ax = sns.boxplot(\n",
    "        data=df, showfliers=False, showcaps=False, x=\"Group\", y=\"cv\",\n",
    "        order=order, palette=['darkgray', 'darkgray'],\n",
    "        boxprops={'facecolor': 'none', 'edgecolor': 'darkgray'}, width=0.4\n",
    "    )\n",
    "    sns.stripplot(\n",
    "        data=df, x=\"Group\", y=\"cv\", order=order, palette=cmap2,\n",
    "        size=4, alpha=0.6, jitter=0.15, ax=ax\n",
    "    )\n",
    "    overall_mean = df['cv'].mean()\n",
    "    plt.axhline(y=overall_mean, color='gray', linestyle=':')\n",
    "    plt.text(1.3, overall_mean, f'{overall_mean:.3f}', verticalalignment='center', color='gray')\n",
    "    plt.xticks(ticks=[0, 1], labels=['WT', 'KO'])\n",
    "    ax.set(ylabel='CV')\n",
    "    plt.ylim([0, 0.12])\n",
    "    ax.yaxis.set_ticks(np.arange(0, 0.12, 0.05))\n",
    "    sns.despine()\n",
    "    plt.xlabel('')\n",
    "    # label hippocampus points for both groups\n",
    "    label_hippocampus(df, order[0], ax)\n",
    "    label_hippocampus(df, order[1], ax)\n",
    "    plt.tight_layout()\n",
    "    plt.savefig(save_path, dpi=300)"
   ]
  },
  {
   "cell_type": "markdown",
   "metadata": {},
   "source": [
    "## Quick stats"
   ]
  },
  {
   "cell_type": "code",
   "execution_count": 16,
   "metadata": {},
   "outputs": [
    {
     "name": "stdout",
     "output_type": "stream",
     "text": [
      "Running stats for df_30...\n",
      "kruskal-wallis p-value: 0.4152696352461094\n",
      "No significant effect, skipping dunn’s test.\n",
      "\n",
      "Running stats for df_90...\n",
      "kruskal-wallis p-value: 0.169303137793265\n",
      "No significant effect, skipping dunn’s test.\n",
      "\n",
      "Running stats for df_exvivo...\n",
      "kruskal-wallis p-value: 0.67410980236455\n",
      "No significant effect, skipping dunn’s test.\n",
      "\n"
     ]
    }
   ],
   "source": [
    "\n",
    "for df, name in zip([df_30, df_90, df_exvivo], ['df_30', 'df_90', 'df_exvivo']):\n",
    "    print(f\"Running stats for {name}...\")\n",
    "    groups = df['Group'].unique()\n",
    "    grouped_data = [df['cv'][df['Group'] == group] for group in groups]\n",
    "    kruskal_result = kruskal(*grouped_data)\n",
    "    print(\"kruskal-wallis p-value:\", kruskal_result.pvalue)\n",
    "    if kruskal_result.pvalue < 0.05:\n",
    "        result = sp.posthoc_dunn(df, val_col='cv', group_col='Group', p_adjust='bonferroni')\n",
    "        print(result)\n",
    "    else:\n",
    "        print(\"No significant effect, skipping dunn’s test.\\n\")\n"
   ]
  },
  {
   "cell_type": "code",
   "execution_count": null,
   "metadata": {},
   "outputs": [],
   "source": []
  },
  {
   "cell_type": "code",
   "execution_count": null,
   "metadata": {},
   "outputs": [],
   "source": []
  }
 ],
 "metadata": {
  "kernelspec": {
   "display_name": "python3119",
   "language": "python",
   "name": "python3"
  },
  "language_info": {
   "codemirror_mode": {
    "name": "ipython",
    "version": 3
   },
   "file_extension": ".py",
   "mimetype": "text/x-python",
   "name": "python",
   "nbconvert_exporter": "python",
   "pygments_lexer": "ipython3",
   "version": "3.11.9"
  }
 },
 "nbformat": 4,
 "nbformat_minor": 2
}
