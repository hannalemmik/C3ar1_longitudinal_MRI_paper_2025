{
 "cells": [
  {
   "cell_type": "code",
   "execution_count": 17,
   "id": "6eff20df",
   "metadata": {},
   "outputs": [],
   "source": [
    "import os\n",
    "import numpy as np\n",
    "import matplotlib.pyplot as plt\n",
    "import seaborn as sns\n",
    "import pandas as pd\n",
    "#import statsmodels.api as sm\n",
    "import scipy.stats as stats\n",
    "import seaborn.objects as so\n",
    "import statannot\n",
    "from statannot import add_stat_annotation\n",
    "from matplotlib.patches import Patch\n",
    "from matplotlib.lines import Line2D\n",
    "# set rcParams to be able to easily edit text in illustrator\n",
    "plt.rcParams['pdf.fonttype'] = 42\n",
    "plt.rcParams['font.size'] = 12\n",
    "plt.rcParams['font.family'] = 'sans-serif'  \n",
    "plt.rcParams['font.sans-serif'] = ['Arial']  "
   ]
  },
  {
   "cell_type": "markdown",
   "id": "ec511f32",
   "metadata": {},
   "source": [
    "## Get data"
   ]
  },
  {
   "cell_type": "code",
   "execution_count": 24,
   "id": "c6c5ec52",
   "metadata": {},
   "outputs": [],
   "source": [
    "df_M0 = pd.read_excel('/Users/hannalemmik/Dropbox/KO_paper/data/KO_validation_C3ar1_M0.xlsx')\n",
    "df_M2 = pd.read_excel('/Users/hannalemmik/Dropbox/KO_paper/data/KO_validation_C3ar1_M2.xlsx')\n",
    "df_M0vsM2 = pd.read_excel('/Users/hannalemmik/Dropbox/KO_paper/data/KO_validation_C3ar1_M0vsM2.xlsx')\n",
    "df_Arg_Cd206 = pd.read_excel('/Users/hannalemmik/Dropbox/KO_paper/data/KO_validation_Arg_Cd206.xlsx')"
   ]
  },
  {
   "cell_type": "code",
   "execution_count": 9,
   "id": "996843c3",
   "metadata": {},
   "outputs": [
    {
     "data": {
      "text/html": [
       "<div>\n",
       "<style scoped>\n",
       "    .dataframe tbody tr th:only-of-type {\n",
       "        vertical-align: middle;\n",
       "    }\n",
       "\n",
       "    .dataframe tbody tr th {\n",
       "        vertical-align: top;\n",
       "    }\n",
       "\n",
       "    .dataframe thead th {\n",
       "        text-align: right;\n",
       "    }\n",
       "</style>\n",
       "<table border=\"1\" class=\"dataframe\">\n",
       "  <thead>\n",
       "    <tr style=\"text-align: right;\">\n",
       "      <th></th>\n",
       "      <th>Genotype</th>\n",
       "      <th>Polarisation</th>\n",
       "      <th>ID</th>\n",
       "      <th>C3ar1</th>\n",
       "      <th>Hprt</th>\n",
       "      <th>C3ar_substract_ref</th>\n",
       "      <th>C3ar_choose_control_to_relate_everything_to</th>\n",
       "      <th>C3ar_substract_that_control</th>\n",
       "      <th>C3ar_2^-x</th>\n",
       "    </tr>\n",
       "  </thead>\n",
       "  <tbody>\n",
       "    <tr>\n",
       "      <th>0</th>\n",
       "      <td>WT</td>\n",
       "      <td>M0</td>\n",
       "      <td>611a</td>\n",
       "      <td>15.348702</td>\n",
       "      <td>22.910664</td>\n",
       "      <td>-7.561962</td>\n",
       "      <td>12.467857</td>\n",
       "      <td>-20.029819</td>\n",
       "      <td>1070474.57</td>\n",
       "    </tr>\n",
       "  </tbody>\n",
       "</table>\n",
       "</div>"
      ],
      "text/plain": [
       "  Genotype Polarisation    ID      C3ar1       Hprt  C3ar_substract_ref  \\\n",
       "0       WT           M0  611a  15.348702  22.910664           -7.561962   \n",
       "\n",
       "   C3ar_choose_control_to_relate_everything_to  C3ar_substract_that_control  \\\n",
       "0                                    12.467857                   -20.029819   \n",
       "\n",
       "    C3ar_2^-x  \n",
       "0  1070474.57  "
      ]
     },
     "execution_count": 9,
     "metadata": {},
     "output_type": "execute_result"
    }
   ],
   "source": [
    "df_M0.head(1)"
   ]
  },
  {
   "cell_type": "markdown",
   "id": "3e424f2f",
   "metadata": {},
   "source": [
    "## Arg and Cd206 expression in M0 vs M2 macrophages"
   ]
  },
  {
   "cell_type": "code",
   "execution_count": null,
   "id": "a70ac3e9",
   "metadata": {},
   "outputs": [
    {
     "data": {
      "text/html": [
       "<div>\n",
       "<style scoped>\n",
       "    .dataframe tbody tr th:only-of-type {\n",
       "        vertical-align: middle;\n",
       "    }\n",
       "\n",
       "    .dataframe tbody tr th {\n",
       "        vertical-align: top;\n",
       "    }\n",
       "\n",
       "    .dataframe thead th {\n",
       "        text-align: right;\n",
       "    }\n",
       "</style>\n",
       "<table border=\"1\" class=\"dataframe\">\n",
       "  <thead>\n",
       "    <tr style=\"text-align: right;\">\n",
       "      <th></th>\n",
       "      <th>ID</th>\n",
       "      <th>Genotype</th>\n",
       "      <th>Polarisation</th>\n",
       "      <th>type</th>\n",
       "      <th>value</th>\n",
       "    </tr>\n",
       "  </thead>\n",
       "  <tbody>\n",
       "    <tr>\n",
       "      <th>0</th>\n",
       "      <td>611a</td>\n",
       "      <td>WT</td>\n",
       "      <td>M2</td>\n",
       "      <td>Arg_2^-x</td>\n",
       "      <td>71166.082755</td>\n",
       "    </tr>\n",
       "    <tr>\n",
       "      <th>1</th>\n",
       "      <td>611a</td>\n",
       "      <td>WT</td>\n",
       "      <td>M0</td>\n",
       "      <td>Arg_2^-x</td>\n",
       "      <td>1.000000</td>\n",
       "    </tr>\n",
       "  </tbody>\n",
       "</table>\n",
       "</div>"
      ],
      "text/plain": [
       "     ID Genotype Polarisation      type         value\n",
       "0  611a       WT           M2  Arg_2^-x  71166.082755\n",
       "1  611a       WT           M0  Arg_2^-x      1.000000"
      ]
     },
     "execution_count": 12,
     "metadata": {},
     "output_type": "execute_result"
    }
   ],
   "source": [
    "#to long form\n",
    "long_both = pd.melt(df_Arg_Cd206, id_vars=['ID', 'Genotype', 'Polarisation'],\n",
    "                       value_vars=['Arg_2^-x', 'Cd206_2^-x'],\n",
    "                       var_name='type', value_name='value')\n",
    "long_both.head(2)"
   ]
  },
  {
   "cell_type": "code",
   "execution_count": 14,
   "id": "25af3d1a",
   "metadata": {},
   "outputs": [
    {
     "data": {
      "image/png": "[encoded data removed]",
      "text/plain": [
       "<Figure size 800x100 with 1 Axes>"
      ]
     },
     "metadata": {},
     "output_type": "display_data"
    }
   ],
   "source": [
    "# define custom colors for groups of categories\n",
    "id_palette = {}\n",
    "id_palette.update(dict.fromkeys([\"611a\", \"56.1e\", \"561d\", \"561c\"], \"#c0bec2\"))\n",
    "id_palette.update(dict.fromkeys([\"561b\", \"581a\", \"611c\", \"571a\"], \"#915e95\"))\n",
    "# for each group id in the dictionary, get its assigned color\n",
    "sns_palette = sns.color_palette([id_palette[group] for group in id_palette])\n",
    "\n",
    "# test the palette \n",
    "sns.palplot(sns_palette)\n"
   ]
  },
  {
   "cell_type": "code",
   "execution_count": 36,
   "id": "618a8b29",
   "metadata": {},
   "outputs": [
    {
     "data": {
      "image/png": "[encoded data removed]",
      "text/plain": [
       "<Figure size 200x100 with 1 Axes>"
      ]
     },
     "metadata": {},
     "output_type": "display_data"
    }
   ],
   "source": [
    "# custom color palette\n",
    "custom_palette = {\"WT\": \"#c0bec2\", \"HOM\": \"#915e95\"}\n",
    "group_palette = sns.color_palette([custom_palette[group] for group in custom_palette])\n",
    "\n",
    "# test the palette\n",
    "sns.palplot(group_palette)"
   ]
  },
  {
   "cell_type": "code",
   "execution_count": 22,
   "id": "19a481e0",
   "metadata": {},
   "outputs": [
    {
     "name": "stderr",
     "output_type": "stream",
     "text": [
      "/var/folders/r9/_1bw8v7j4dqb79r_rydnls7c0000gn/T/ipykernel_17096/4084417180.py:4: SettingWithCopyWarning: \n",
      "A value is trying to be set on a copy of a slice from a DataFrame.\n",
      "Try using .loc[row_indexer,col_indexer] = value instead\n",
      "\n",
      "See the caveats in the documentation: https://pandas.pydata.org/pandas-docs/stable/user_guide/indexing.html#returning-a-view-versus-a-copy\n",
      "  arg['log_value'] = np.log10(arg['value'])\n"
     ]
    },
    {
     "data": {
      "image/png": "[encoded data removed]",
      "text/plain": [
       "<Figure size 200x200 with 1 Axes>"
      ]
     },
     "metadata": {},
     "output_type": "display_data"
    }
   ],
   "source": [
    "# filter data for Arg\n",
    "arg = long_both[long_both['type'] == 'Arg_2^-x']\n",
    "# log transform the 'value' column\n",
    "arg['log_value'] = np.log10(arg['value'])\n",
    "# separate data for M2 polarization\n",
    "m2_data = arg[arg['Polarisation'] == 'M2']['log_value']\n",
    "# perform one-sample t-test against 0\n",
    "t_stat, p_val = stats.ttest_1samp(m2_data, 0)\n",
    "\n",
    "\n",
    "\n",
    "# plotting\n",
    "f, ax = plt.subplots(figsize=(2, 2))\n",
    "\n",
    "order=['M0', 'M2']\n",
    "\n",
    "sns.pointplot(x='Polarisation', y='log_value', hue='ID',palette=id_palette, data=arg, order=order, scale=1, join=True, ax=ax, capsize=0.2, errwidth=3, errorbar=('ci', 95))\n",
    "# annotate the plot with the p-value\n",
    "ax.text(1, max(arg['log_value']) + 0.7, f'  \\np-value: {p_val.round(6)}\\nt-stat={t_stat.round(6)}', ha='center')\n",
    "ax.set_title('Arg')\n",
    "ax.set_ylabel('log10relative expression\\n(2-∆∆Ct) normalised to Hprt')\n",
    "ax.set_ylim(0,8)\n",
    "ax.legend_.remove()\n",
    "sns.despine()\n",
    "\n",
    "plt.savefig('/Users/hannalemmik/Dropbox/KO_paper/validation/Arg_M0vsM2.pdf', dpi=300)"
   ]
  },
  {
   "cell_type": "code",
   "execution_count": 23,
   "id": "ce437953",
   "metadata": {},
   "outputs": [
    {
     "name": "stderr",
     "output_type": "stream",
     "text": [
      "/var/folders/r9/_1bw8v7j4dqb79r_rydnls7c0000gn/T/ipykernel_17096/1121357888.py:4: SettingWithCopyWarning: \n",
      "A value is trying to be set on a copy of a slice from a DataFrame.\n",
      "Try using .loc[row_indexer,col_indexer] = value instead\n",
      "\n",
      "See the caveats in the documentation: https://pandas.pydata.org/pandas-docs/stable/user_guide/indexing.html#returning-a-view-versus-a-copy\n",
      "  arg['log_value'] = np.log10(arg['value'])\n"
     ]
    },
    {
     "data": {
      "image/png": "[encoded data removed]",
      "text/plain": [
       "<Figure size 200x200 with 1 Axes>"
      ]
     },
     "metadata": {},
     "output_type": "display_data"
    }
   ],
   "source": [
    "# filter data\n",
    "arg = long_both[long_both['type'] == 'Cd206_2^-x']\n",
    "# log transform the 'value' column\n",
    "arg['log_value'] = np.log10(arg['value'])\n",
    "# separate data for M2 polarisation\n",
    "m2_data = arg[arg['Polarisation'] == 'M2']['log_value']\n",
    "# perform one-sample t-test against 0\n",
    "t_stat, p_val = stats.ttest_1samp(m2_data, 0)\n",
    "\n",
    "\n",
    "\n",
    "# plotting\n",
    "f, ax = plt.subplots(figsize=(2, 2))\n",
    "\n",
    "order=['M0', 'M2']\n",
    "\n",
    "sns.pointplot(x='Polarisation', y='log_value', hue='ID',palette=id_palette, data=arg, order=order, scale=1, join=True, ax=ax, capsize=0.2, errwidth=3, errorbar=('ci', 95))\n",
    "# Annotate the plot with the p-value\n",
    "ax.text(1, max(arg['log_value']) + 0.7, f'  \\np-value: {p_val.round(6)}\\nt-stat={t_stat.round(6)}', ha='center')\n",
    "ax.set_ylabel('log10relative expression\\n(2-∆∆Ct) normalised to Hprt')\n",
    "ax.set_title('Cd206')\n",
    "ax.set_ylim(0,4)\n",
    "ax.legend_.remove()\n",
    "sns.despine()\n",
    "\n",
    "\n",
    "plt.savefig('/Users/hannalemmik/Dropbox/KO_paper/validation/cd206_M0vsM2.pdf', dpi=300)"
   ]
  },
  {
   "cell_type": "markdown",
   "id": "9bd8b65e",
   "metadata": {},
   "source": [
    "## Compare C3ar1 expression in M0 vs M2 macrophages"
   ]
  },
  {
   "cell_type": "code",
   "execution_count": 43,
   "id": "3cb0d153",
   "metadata": {},
   "outputs": [
    {
     "data": {
      "text/html": [
       "<div>\n",
       "<style scoped>\n",
       "    .dataframe tbody tr th:only-of-type {\n",
       "        vertical-align: middle;\n",
       "    }\n",
       "\n",
       "    .dataframe tbody tr th {\n",
       "        vertical-align: top;\n",
       "    }\n",
       "\n",
       "    .dataframe thead th {\n",
       "        text-align: right;\n",
       "    }\n",
       "</style>\n",
       "<table border=\"1\" class=\"dataframe\">\n",
       "  <thead>\n",
       "    <tr style=\"text-align: right;\">\n",
       "      <th></th>\n",
       "      <th>Genotype</th>\n",
       "      <th>Polarisation</th>\n",
       "      <th>ID</th>\n",
       "      <th>C3ar_substract_ref</th>\n",
       "      <th>C3ar_choose_control_to_relate_everything_to</th>\n",
       "      <th>C3ar_substract_that_control</th>\n",
       "      <th>C3ar_2^-x</th>\n",
       "      <th>log_value</th>\n",
       "    </tr>\n",
       "  </thead>\n",
       "  <tbody>\n",
       "    <tr>\n",
       "      <th>0</th>\n",
       "      <td>WT</td>\n",
       "      <td>M2</td>\n",
       "      <td>611a</td>\n",
       "      <td>-9.569118</td>\n",
       "      <td>-7.561962</td>\n",
       "      <td>-2.007155</td>\n",
       "      <td>4.019888</td>\n",
       "      <td>0.604214</td>\n",
       "    </tr>\n",
       "  </tbody>\n",
       "</table>\n",
       "</div>"
      ],
      "text/plain": [
       "  Genotype Polarisation    ID  C3ar_substract_ref  \\\n",
       "0       WT           M2  611a           -9.569118   \n",
       "\n",
       "   C3ar_choose_control_to_relate_everything_to  C3ar_substract_that_control  \\\n",
       "0                                    -7.561962                    -2.007155   \n",
       "\n",
       "   C3ar_2^-x  log_value  \n",
       "0   4.019888   0.604214  "
      ]
     },
     "execution_count": 43,
     "metadata": {},
     "output_type": "execute_result"
    }
   ],
   "source": [
    "df_M0vsM2.head(1)"
   ]
  },
  {
   "cell_type": "code",
   "execution_count": 44,
   "id": "a97464db",
   "metadata": {},
   "outputs": [
    {
     "data": {
      "text/html": [
       "<div>\n",
       "<style scoped>\n",
       "    .dataframe tbody tr th:only-of-type {\n",
       "        vertical-align: middle;\n",
       "    }\n",
       "\n",
       "    .dataframe tbody tr th {\n",
       "        vertical-align: top;\n",
       "    }\n",
       "\n",
       "    .dataframe thead th {\n",
       "        text-align: right;\n",
       "    }\n",
       "</style>\n",
       "<table border=\"1\" class=\"dataframe\">\n",
       "  <thead>\n",
       "    <tr style=\"text-align: right;\">\n",
       "      <th></th>\n",
       "      <th>Genotype</th>\n",
       "      <th>Polarisation</th>\n",
       "      <th>ID</th>\n",
       "      <th>C3ar_substract_ref</th>\n",
       "      <th>C3ar_choose_control_to_relate_everything_to</th>\n",
       "      <th>C3ar_substract_that_control</th>\n",
       "      <th>C3ar_2^-x</th>\n",
       "      <th>log_value</th>\n",
       "    </tr>\n",
       "  </thead>\n",
       "  <tbody>\n",
       "    <tr>\n",
       "      <th>0</th>\n",
       "      <td>WT</td>\n",
       "      <td>M2</td>\n",
       "      <td>611a</td>\n",
       "      <td>-9.569118</td>\n",
       "      <td>-7.561962</td>\n",
       "      <td>-2.007155</td>\n",
       "      <td>4.019888</td>\n",
       "      <td>0.604214</td>\n",
       "    </tr>\n",
       "    <tr>\n",
       "      <th>1</th>\n",
       "      <td>WT</td>\n",
       "      <td>M0</td>\n",
       "      <td>611a</td>\n",
       "      <td>-7.561962</td>\n",
       "      <td>-7.561962</td>\n",
       "      <td>0.000000</td>\n",
       "      <td>1.000000</td>\n",
       "      <td>0.000000</td>\n",
       "    </tr>\n",
       "    <tr>\n",
       "      <th>2</th>\n",
       "      <td>WT</td>\n",
       "      <td>M2</td>\n",
       "      <td>561e</td>\n",
       "      <td>-3.163244</td>\n",
       "      <td>-2.854339</td>\n",
       "      <td>-0.308905</td>\n",
       "      <td>1.238767</td>\n",
       "      <td>0.092990</td>\n",
       "    </tr>\n",
       "    <tr>\n",
       "      <th>3</th>\n",
       "      <td>WT</td>\n",
       "      <td>M0</td>\n",
       "      <td>561e</td>\n",
       "      <td>-2.854339</td>\n",
       "      <td>-2.854339</td>\n",
       "      <td>0.000000</td>\n",
       "      <td>1.000000</td>\n",
       "      <td>0.000000</td>\n",
       "    </tr>\n",
       "    <tr>\n",
       "      <th>4</th>\n",
       "      <td>WT</td>\n",
       "      <td>M0</td>\n",
       "      <td>561d</td>\n",
       "      <td>-2.673948</td>\n",
       "      <td>-2.673948</td>\n",
       "      <td>0.000000</td>\n",
       "      <td>1.000000</td>\n",
       "      <td>0.000000</td>\n",
       "    </tr>\n",
       "    <tr>\n",
       "      <th>5</th>\n",
       "      <td>WT</td>\n",
       "      <td>M2</td>\n",
       "      <td>561d</td>\n",
       "      <td>-2.299344</td>\n",
       "      <td>-2.673948</td>\n",
       "      <td>0.374603</td>\n",
       "      <td>0.771317</td>\n",
       "      <td>-0.112767</td>\n",
       "    </tr>\n",
       "    <tr>\n",
       "      <th>6</th>\n",
       "      <td>WT</td>\n",
       "      <td>M0</td>\n",
       "      <td>561c</td>\n",
       "      <td>0.708963</td>\n",
       "      <td>0.708963</td>\n",
       "      <td>0.000000</td>\n",
       "      <td>1.000000</td>\n",
       "      <td>0.000000</td>\n",
       "    </tr>\n",
       "    <tr>\n",
       "      <th>7</th>\n",
       "      <td>WT</td>\n",
       "      <td>M2</td>\n",
       "      <td>561c</td>\n",
       "      <td>1.566550</td>\n",
       "      <td>0.708963</td>\n",
       "      <td>0.857587</td>\n",
       "      <td>0.551875</td>\n",
       "      <td>-0.258159</td>\n",
       "    </tr>\n",
       "  </tbody>\n",
       "</table>\n",
       "</div>"
      ],
      "text/plain": [
       "  Genotype Polarisation    ID  C3ar_substract_ref  \\\n",
       "0       WT           M2  611a           -9.569118   \n",
       "1       WT           M0  611a           -7.561962   \n",
       "2       WT           M2  561e           -3.163244   \n",
       "3       WT           M0  561e           -2.854339   \n",
       "4       WT           M0  561d           -2.673948   \n",
       "5       WT           M2  561d           -2.299344   \n",
       "6       WT           M0  561c            0.708963   \n",
       "7       WT           M2  561c            1.566550   \n",
       "\n",
       "   C3ar_choose_control_to_relate_everything_to  C3ar_substract_that_control  \\\n",
       "0                                    -7.561962                    -2.007155   \n",
       "1                                    -7.561962                     0.000000   \n",
       "2                                    -2.854339                    -0.308905   \n",
       "3                                    -2.854339                     0.000000   \n",
       "4                                    -2.673948                     0.000000   \n",
       "5                                    -2.673948                     0.374603   \n",
       "6                                     0.708963                     0.000000   \n",
       "7                                     0.708963                     0.857587   \n",
       "\n",
       "   C3ar_2^-x  log_value  \n",
       "0   4.019888   0.604214  \n",
       "1   1.000000   0.000000  \n",
       "2   1.238767   0.092990  \n",
       "3   1.000000   0.000000  \n",
       "4   1.000000   0.000000  \n",
       "5   0.771317  -0.112767  \n",
       "6   1.000000   0.000000  \n",
       "7   0.551875  -0.258159  "
      ]
     },
     "execution_count": 44,
     "metadata": {},
     "output_type": "execute_result"
    }
   ],
   "source": [
    "df_M0vsM2"
   ]
  },
  {
   "cell_type": "code",
   "execution_count": 49,
   "id": "79979845",
   "metadata": {},
   "outputs": [
    {
     "data": {
      "image/png": "[encoded data removed]",
      "text/plain": [
       "<Figure size 200x200 with 1 Axes>"
      ]
     },
     "metadata": {},
     "output_type": "display_data"
    }
   ],
   "source": [
    "# log transform the 'value' column\n",
    "df_M0vsM2['log_value'] = np.log10(df_M0vsM2['C3ar_2^-x'])\n",
    "# separate data\n",
    "m0_data = df_M0vsM2[df_M0vsM2['Polarisation'] == 'M0']['log_value']\n",
    "m2_data = df_M0vsM2[df_M0vsM2['Polarisation'] == 'M2']['log_value']\n",
    "# perform one-sample t-test; do M2 macrophages express more C3ar1?\n",
    "t_stat, p_val = stats.ttest_1samp(m2_data, 0, alternative='greater')\n",
    "\n",
    "\n",
    "# plotting\n",
    "f, ax = plt.subplots(figsize=(2, 2))\n",
    "\n",
    "order=['M0', 'M2']\n",
    "gray_palette = sns.color_palette([\"#c0bec2\", \"#c0bec2\", \"#c0bec2\"])\n",
    "sns.pointplot(x='Polarisation', y='log_value', hue='ID',palette=gray_palette, data=df_M0vsM2, order=order, scale=1, join=True, ax=ax, capsize=0.2, errwidth=3, errorbar=('ci', 95))\n",
    "# annotate the plot\n",
    "ax.text(1, max(df_M0vsM2['log_value']) + 0.07, f'  \\np-value: {p_val.round(6)}\\nt-stat={t_stat.round(6)}', ha='center')\n",
    "ax.set_ylabel('log10relative expression\\n(2-∆∆Ct) normalised to Hprt')\n",
    "ax.set_title('C3a1 expression in M0\\nvs M2 macrophages')\n",
    "ax.set_ylim(-1,1)\n",
    "ax.set_yticks([-1, 0, 1])\n",
    "ax.legend_.remove()\n",
    "sns.despine()\n",
    "\n",
    "plt.savefig('/Users/hannalemmik/Dropbox/KO_paper/validation/C3ar1_M0vsM2.pdf', dpi=300)"
   ]
  },
  {
   "cell_type": "markdown",
   "id": "3af4a4f7",
   "metadata": {},
   "source": [
    "## C3ar1 expression in M2 macrophages"
   ]
  },
  {
   "cell_type": "code",
   "execution_count": 50,
   "id": "b7194a01",
   "metadata": {},
   "outputs": [
    {
     "data": {
      "text/html": [
       "<div>\n",
       "<style scoped>\n",
       "    .dataframe tbody tr th:only-of-type {\n",
       "        vertical-align: middle;\n",
       "    }\n",
       "\n",
       "    .dataframe tbody tr th {\n",
       "        vertical-align: top;\n",
       "    }\n",
       "\n",
       "    .dataframe thead th {\n",
       "        text-align: right;\n",
       "    }\n",
       "</style>\n",
       "<table border=\"1\" class=\"dataframe\">\n",
       "  <thead>\n",
       "    <tr style=\"text-align: right;\">\n",
       "      <th></th>\n",
       "      <th>Genotype</th>\n",
       "      <th>Polarisation</th>\n",
       "      <th>ID</th>\n",
       "      <th>C3ar1</th>\n",
       "      <th>Hprt</th>\n",
       "      <th>C3ar_substract_ref</th>\n",
       "      <th>C3ar_choose_control_to_relate_everything_to</th>\n",
       "      <th>C3ar_substract_that_control</th>\n",
       "      <th>C3ar_2^-x</th>\n",
       "      <th>log_value</th>\n",
       "    </tr>\n",
       "  </thead>\n",
       "  <tbody>\n",
       "    <tr>\n",
       "      <th>0</th>\n",
       "      <td>WT</td>\n",
       "      <td>M2</td>\n",
       "      <td>611a</td>\n",
       "      <td>16.5988</td>\n",
       "      <td>26.167917</td>\n",
       "      <td>-9.569118</td>\n",
       "      <td>12.278937</td>\n",
       "      <td>-21.848055</td>\n",
       "      <td>3.775025e+06</td>\n",
       "      <td>6.57692</td>\n",
       "    </tr>\n",
       "  </tbody>\n",
       "</table>\n",
       "</div>"
      ],
      "text/plain": [
       "  Genotype Polarisation    ID    C3ar1       Hprt  C3ar_substract_ref  \\\n",
       "0       WT           M2  611a  16.5988  26.167917           -9.569118   \n",
       "\n",
       "   C3ar_choose_control_to_relate_everything_to  C3ar_substract_that_control  \\\n",
       "0                                    12.278937                   -21.848055   \n",
       "\n",
       "      C3ar_2^-x  log_value  \n",
       "0  3.775025e+06    6.57692  "
      ]
     },
     "execution_count": 50,
     "metadata": {},
     "output_type": "execute_result"
    }
   ],
   "source": [
    "df_M2.head(1)"
   ]
  },
  {
   "cell_type": "code",
   "execution_count": 53,
   "id": "2433d07e",
   "metadata": {},
   "outputs": [
    {
     "data": {
      "image/png": "[encoded data removed]",
      "text/plain": [
       "<Figure size 200x200 with 1 Axes>"
      ]
     },
     "metadata": {},
     "output_type": "display_data"
    }
   ],
   "source": [
    "# log transform the 'value' column\n",
    "df_M2['log_value'] = np.log10(df_M2['C3ar_2^-x'])\n",
    "# separate data\n",
    "wt_data = df_M2[df_M2['Genotype'] == 'WT']['log_value']\n",
    "# separate data \n",
    "hom_data = df_M2[df_M2['Genotype'] == 'HOM']['log_value']\n",
    "# kruskal wallis test\n",
    "stat, p_val = stats.kruskal(wt_data, hom_data)\n",
    "\n",
    "\n",
    "\n",
    "# plotting\n",
    "f, ax = plt.subplots(figsize=(2, 2))\n",
    "\n",
    "order=['WT', 'HOM']\n",
    "\n",
    "sns.pointplot(x='Genotype', y='log_value', palette=sns_palette, data=df_M2, order=order, scale=1, join=True, ax=ax, capsize=0.2, errwidth=3, errorbar=('ci', 95))\n",
    "# annotate \n",
    "ax.text(1, max(df_M2['log_value']) , f'  \\np-value: {p_val.round(6)}\\nstat={stat.round(6)}', ha='center')\n",
    "\n",
    "ax.set_title('C3ar expression in\\nM2 macrophages')\n",
    "ax.set_ylim(-1,8)\n",
    "ax.set_ylabel('log10relative expression\\n(2-∆∆Ct) normalised to Hprt')\n",
    "sns.despine()\n",
    "ax.set_yticks([0, 5])\n",
    "plt.axhline(y=0, linestyle=\":\", color='darkgray')\n",
    "\n",
    "plt.savefig('/Users/hannalemmik/Dropbox/KO_paper/validation/C3ar1_M2.pdf', dpi=300)"
   ]
  },
  {
   "cell_type": "markdown",
   "id": "7dabbbf1",
   "metadata": {},
   "source": [
    "## Calculate effect size"
   ]
  },
  {
   "cell_type": "code",
   "execution_count": null,
   "id": "261492cd",
   "metadata": {},
   "outputs": [
    {
     "data": {
      "text/plain": [
       "0.7619047619047612"
      ]
     },
     "execution_count": 35,
     "metadata": {},
     "output_type": "execute_result"
    }
   ],
   "source": [
    "# calculate epsilon-squared (ε²) for effect size\n",
    "n = len(wt_data) + len(hom_data)\n",
    "epsilon_squared = stat / (n - 1)\n",
    "epsilon_squared"
   ]
  },
  {
   "cell_type": "markdown",
   "id": "8d00f444",
   "metadata": {},
   "source": [
    "## C3ar1 expression in M0 macrophages"
   ]
  },
  {
   "cell_type": "code",
   "execution_count": 55,
   "id": "d933cf1b",
   "metadata": {},
   "outputs": [
    {
     "data": {
      "text/html": [
       "<div>\n",
       "<style scoped>\n",
       "    .dataframe tbody tr th:only-of-type {\n",
       "        vertical-align: middle;\n",
       "    }\n",
       "\n",
       "    .dataframe tbody tr th {\n",
       "        vertical-align: top;\n",
       "    }\n",
       "\n",
       "    .dataframe thead th {\n",
       "        text-align: right;\n",
       "    }\n",
       "</style>\n",
       "<table border=\"1\" class=\"dataframe\">\n",
       "  <thead>\n",
       "    <tr style=\"text-align: right;\">\n",
       "      <th></th>\n",
       "      <th>Genotype</th>\n",
       "      <th>Polarisation</th>\n",
       "      <th>ID</th>\n",
       "      <th>C3ar1</th>\n",
       "      <th>Hprt</th>\n",
       "      <th>C3ar_substract_ref</th>\n",
       "      <th>C3ar_choose_control_to_relate_everything_to</th>\n",
       "      <th>C3ar_substract_that_control</th>\n",
       "      <th>C3ar_2^-x</th>\n",
       "    </tr>\n",
       "  </thead>\n",
       "  <tbody>\n",
       "    <tr>\n",
       "      <th>0</th>\n",
       "      <td>WT</td>\n",
       "      <td>M0</td>\n",
       "      <td>611a</td>\n",
       "      <td>15.348702</td>\n",
       "      <td>22.910664</td>\n",
       "      <td>-7.561962</td>\n",
       "      <td>12.467857</td>\n",
       "      <td>-20.029819</td>\n",
       "      <td>1070474.57</td>\n",
       "    </tr>\n",
       "  </tbody>\n",
       "</table>\n",
       "</div>"
      ],
      "text/plain": [
       "  Genotype Polarisation    ID      C3ar1       Hprt  C3ar_substract_ref  \\\n",
       "0       WT           M0  611a  15.348702  22.910664           -7.561962   \n",
       "\n",
       "   C3ar_choose_control_to_relate_everything_to  C3ar_substract_that_control  \\\n",
       "0                                    12.467857                   -20.029819   \n",
       "\n",
       "    C3ar_2^-x  \n",
       "0  1070474.57  "
      ]
     },
     "execution_count": 55,
     "metadata": {},
     "output_type": "execute_result"
    }
   ],
   "source": [
    "df_M0.head(1)"
   ]
  },
  {
   "cell_type": "code",
   "execution_count": 56,
   "id": "34ddaa8e",
   "metadata": {},
   "outputs": [
    {
     "data": {
      "image/png": "[encoded data removed]",
      "text/plain": [
       "<Figure size 200x200 with 1 Axes>"
      ]
     },
     "metadata": {},
     "output_type": "display_data"
    }
   ],
   "source": [
    "# log transform the 'value' column\n",
    "df_M0['log_value'] = np.log10(df_M0['C3ar_2^-x'])\n",
    "# separate data\n",
    "wt_data = df_M0[df_M0['Genotype'] == 'WT']['log_value']\n",
    "# separate data \n",
    "hom_data = df_M0[df_M0['Genotype'] == 'HOM']['log_value']\n",
    "# kruskal wallis test\n",
    "stat, p_val = stats.kruskal(wt_data, hom_data)\n",
    "\n",
    "\n",
    "\n",
    "# plotting\n",
    "f, ax = plt.subplots(figsize=(2, 2))\n",
    "\n",
    "order=['WT', 'HOM']\n",
    "\n",
    "sns.pointplot(x='Genotype', y='log_value', palette=sns_palette, data=df_M0, order=order, scale=1, join=True, ax=ax, capsize=0.2, errwidth=3, errorbar=('ci', 95))\n",
    "# annotate \n",
    "ax.text(1, max(df_M0['log_value']) , f'  \\np-value: {p_val.round(6)}\\nstat={stat.round(6)}', ha='center')\n",
    "\n",
    "ax.set_title('C3ar expression in\\nM2 macrophages')\n",
    "ax.set_ylim(-1,8)\n",
    "ax.set_ylabel('log10relative expression\\n(2-∆∆Ct) normalised to Hprt')\n",
    "sns.despine()\n",
    "ax.set_yticks([0, 5])\n",
    "plt.axhline(y=0, linestyle=\":\", color='darkgray')\n",
    "\n",
    "plt.savefig('/Users/hannalemmik/Dropbox/KO_paper/validation/C3ar1_M0.pdf', dpi=300)"
   ]
  },
  {
   "cell_type": "markdown",
   "id": "4948bf34",
   "metadata": {},
   "source": [
    "## Calculate effect size"
   ]
  },
  {
   "cell_type": "code",
   "execution_count": 57,
   "id": "4f1223cf",
   "metadata": {},
   "outputs": [
    {
     "data": {
      "text/plain": [
       "0.7619047619047612"
      ]
     },
     "execution_count": 57,
     "metadata": {},
     "output_type": "execute_result"
    }
   ],
   "source": [
    "# Calculate epsilon-squared (ε²) for effect size\n",
    "n = len(wt_data) + len(hom_data)\n",
    "epsilon_squared = stat / (n - 1)\n",
    "epsilon_squared"
   ]
  },
  {
   "cell_type": "code",
   "execution_count": null,
   "id": "e068f4c5",
   "metadata": {},
   "outputs": [],
   "source": []
  },
  {
   "cell_type": "code",
   "execution_count": null,
   "id": "4019c589",
   "metadata": {},
   "outputs": [],
   "source": []
  },
  {
   "cell_type": "code",
   "execution_count": null,
   "id": "ddc29e96",
   "metadata": {},
   "outputs": [],
   "source": []
  },
  {
   "cell_type": "code",
   "execution_count": null,
   "id": "a23f6e2a",
   "metadata": {},
   "outputs": [],
   "source": []
  }
 ],
 "metadata": {
  "kernelspec": {
   "display_name": "python3119",
   "language": "python",
   "name": "python3"
  },
  "language_info": {
   "codemirror_mode": {
    "name": "ipython",
    "version": 3
   },
   "file_extension": ".py",
   "mimetype": "text/x-python",
   "name": "python",
   "nbconvert_exporter": "python",
   "pygments_lexer": "ipython3",
   "version": "3.11.9"
  }
 },
 "nbformat": 4,
 "nbformat_minor": 5
}
