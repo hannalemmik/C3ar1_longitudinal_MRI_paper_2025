{
 "cells": [
  {
   "cell_type": "code",
   "execution_count": 1,
   "metadata": {},
   "outputs": [],
   "source": [
    "#import os\n",
    "import numpy as np\n",
    "import matplotlib.pyplot as plt\n",
    "import seaborn as sns\n",
    "import pandas as pd\n",
    "import statsmodels.api as sm\n",
    "from statsmodels.formula.api import ols\n",
    "from statannot import add_stat_annotation\n",
    "from matplotlib.lines import Line2D\n",
    "from scipy.stats import shapiro, levene, ttest_ind, mannwhitneyu, kruskal\n",
    "import pingouin as pg\n",
    "\n",
    "# set rcParams to be able to easily edit text in illustrator\n",
    "plt.rcParams['pdf.fonttype'] = 42\n",
    "plt.rcParams['font.size'] = 12\n",
    "plt.rcParams['font.family'] = 'sans-serif'  \n",
    "plt.rcParams['font.sans-serif'] = ['Arial']  "
   ]
  },
  {
   "cell_type": "markdown",
   "metadata": {},
   "source": [
    "# Get data"
   ]
  },
  {
   "cell_type": "code",
   "execution_count": 19,
   "metadata": {},
   "outputs": [],
   "source": [
    "\n",
    "cohort2 = pd.read_excel('/Users/hannalemmik/Dropbox/C3ar1_longitudinal_MRI_paper_2025/data/totalvol_Cohort2.xlsx')\n",
    "cohort1_30 = pd.read_excel('/Users/hannalemmik/Dropbox/C3ar1_longitudinal_MRI_paper_2025/data/totalvol_Cohort1_PND30.xlsx')\n",
    "cohort1_90 = pd.read_excel('/Users/hannalemmik/Dropbox/C3ar1_longitudinal_MRI_paper_2025/data/totalvol_Cohort1_PND90.xlsx')\n",
    "cohort1_exvivo = pd.read_excel('/Users/hannalemmik/Dropbox/C3ar1_longitudinal_MRI_paper_2025/data/totalvol_Cohort1_exvivo.xlsx')\n"
   ]
  },
  {
   "cell_type": "code",
   "execution_count": 20,
   "metadata": {},
   "outputs": [
    {
     "data": {
      "text/html": [
       "<div>\n",
       "<style scoped>\n",
       "    .dataframe tbody tr th:only-of-type {\n",
       "        vertical-align: middle;\n",
       "    }\n",
       "\n",
       "    .dataframe tbody tr th {\n",
       "        vertical-align: top;\n",
       "    }\n",
       "\n",
       "    .dataframe thead th {\n",
       "        text-align: right;\n",
       "    }\n",
       "</style>\n",
       "<table border=\"1\" class=\"dataframe\">\n",
       "  <thead>\n",
       "    <tr style=\"text-align: right;\">\n",
       "      <th></th>\n",
       "      <th>subject</th>\n",
       "      <th>vol</th>\n",
       "      <th>Sex</th>\n",
       "      <th>Genotype</th>\n",
       "    </tr>\n",
       "  </thead>\n",
       "  <tbody>\n",
       "    <tr>\n",
       "      <th>0</th>\n",
       "      <td>COMR141a</td>\n",
       "      <td>433.692</td>\n",
       "      <td>M</td>\n",
       "      <td>KO</td>\n",
       "    </tr>\n",
       "  </tbody>\n",
       "</table>\n",
       "</div>"
      ],
      "text/plain": [
       "    subject      vol Sex Genotype\n",
       "0  COMR141a  433.692   M       KO"
      ]
     },
     "execution_count": 20,
     "metadata": {},
     "output_type": "execute_result"
    }
   ],
   "source": [
    "\n",
    "cohort2.head(1)"
   ]
  },
  {
   "cell_type": "markdown",
   "metadata": {},
   "source": [
    "## Calculate change between over time (∆adulthood–adolescence) and between in vivo and ex vivo scans"
   ]
  },
  {
   "cell_type": "code",
   "execution_count": 21,
   "metadata": {},
   "outputs": [],
   "source": [
    "# map all on subject to ensure alignment\n",
    "cohort1_30['exvivo'] = cohort1_30['subject'].map(cohort1_exvivo.set_index('subject')['vol'])\n",
    "cohort1_30['90'] = cohort1_30['subject'].map(cohort1_90.set_index('subject')['vol'])\n",
    "\n",
    "# calculate change from day 30 to day 90 and change between in vivo and ex vivo\n",
    "cohort1_30['maturation_change']= cohort1_30['90']-cohort1_30['vol']\n",
    "cohort1_30['exvivo_change']= cohort1_30['exvivo']-cohort1_30['90']"
   ]
  },
  {
   "cell_type": "markdown",
   "metadata": {},
   "source": [
    "## Plotting and preliminary stats"
   ]
  },
  {
   "cell_type": "code",
   "execution_count": 22,
   "metadata": {},
   "outputs": [
    {
     "name": "stdout",
     "output_type": "stream",
     "text": [
      "p-value annotation legend:\n",
      "ns: 5.00e-02 < p <= 1.00e+00\n",
      "*: 1.00e-02 < p <= 5.00e-02\n",
      "**: 1.00e-03 < p <= 1.00e-02\n",
      "***: 1.00e-04 < p <= 1.00e-03\n",
      "****: p <= 1.00e-04\n",
      "\n",
      "F_WT v.s. F_KO: Kruskal-Wallis paired samples with Bonferroni correction, P_val=6.286e-02 stat=5.835e+00\n",
      "M_WT v.s. M_KO: Kruskal-Wallis paired samples with Bonferroni correction, P_val=1.000e+00 stat=4.463e-02\n",
      "M_KO v.s. F_KO: Kruskal-Wallis paired samples with Bonferroni correction, P_val=1.000e+00 stat=3.868e-01\n",
      "M_WT v.s. F_WT: Kruskal-Wallis paired samples with Bonferroni correction, P_val=3.294e-02 stat=6.982e+00\n"
     ]
    },
    {
     "data": {
      "image/png": "[encoded data removed]",
      "text/plain": [
       "<Figure size 200x200 with 1 Axes>"
      ]
     },
     "metadata": {},
     "output_type": "display_data"
    }
   ],
   "source": [
    "\n",
    "# function for plotting and stats\n",
    "def plot_events(dataframe, y_column, file_path, ylim=None, title=None, ylabel=None):\n",
    "    # create figure and axis\n",
    "    f, ax = plt.subplots(figsize=(2, 2))\n",
    "    # define the desired order for 'Sex'\n",
    "    desired_order = ['M', 'F']\n",
    "    # define the color palette for Group_ID and Sex\n",
    "    palette = {\n",
    "        ('WT', 'M'): '#c0bec2',  \n",
    "        ('WT', 'F'): '#c0bec2', \n",
    "        ('KO', 'M'): '#915e95',  \n",
    "        ('KO', 'F'): '#915e95'  \n",
    "    }\n",
    "    # manually plot data points with custom markers for Group_ID (WT and KO)\n",
    "    marker_size = 60  # size of markers\n",
    "    x_spacing = 0.1  # spacing between 'WT' and 'KO' markers within each sex\n",
    "\n",
    "    # iterate over each sex in the desired order\n",
    "    for i, sex in enumerate(desired_order):\n",
    "        # filter data for the current sex\n",
    "        sex_data = dataframe[dataframe['Sex'] == sex]\n",
    "\n",
    "        # calculate x-coordinate for scatter plot based on the desired order\n",
    "        x_position = i\n",
    "\n",
    "        # iterate over each row in the filtered data\n",
    "        for j, row in sex_data.iterrows():\n",
    "            # determine x-coordinate based on group\n",
    "            x_offset = -x_spacing / 0.6 if row['Genotype'] == 'WT' else x_spacing / 0.6\n",
    "\n",
    "            # calculate final x-coordinate with offset\n",
    "            x_coordinate = x_position + x_offset\n",
    "\n",
    "            # determine marker and color based on 'Group_ID'\n",
    "            marker = 'o' if sex == 'M' else 'o'\n",
    "            color = palette[(row['Genotype'], sex)]\n",
    "\n",
    "            # plot scatter point\n",
    "            ax.scatter(x_coordinate, row[y_column], linewidth=1.5,color=color,facecolor='none', marker=marker, s=marker_size, alpha=0.5)\n",
    "\n",
    "\n",
    "    # plot the pointplot with custom markers\n",
    "    sns.pointplot(x='Sex', y=y_column, markers=['o', 'o'], hue='Genotype', palette={'WT': '#c0bec2', 'KO': '#915e95'}, hue_order=['WT', 'KO'],order=desired_order, dodge=0.35,\n",
    "                  data=dataframe, ax=ax, errorbar=('ci', 95), capsize=0.2, scale=1, join=False, errwidth=2.25)\n",
    "\n",
    "\n",
    " # add statistical annotations for all four comparisons\n",
    "    box_pairs = [\n",
    "        (('M', 'WT'), ('M', 'KO')),\n",
    "        (('F', 'WT'), ('F', 'KO')),\n",
    "        (('M', 'KO'), ('F', 'KO')),\n",
    "        (('F', 'WT'), ('M', 'WT'))\n",
    "    ]\n",
    "    test_order=['WT', 'KO']\n",
    "    add_stat_annotation(ax, perform_stat_test=True, order=desired_order, hue_order=test_order,data=dataframe, x='Sex', y=y_column, hue='Genotype', box_pairs=box_pairs,\n",
    "                        test='Kruskal', pvalues=None, text_format='star', loc='inside', verbose=2, comparisons_correction='bonferroni')\n",
    "\n",
    "    # despine the plot\n",
    "    sns.despine()\n",
    "\n",
    "    # set plot limits and labels\n",
    "    ax.set_xlim(-1, 2)\n",
    "    if ylim:\n",
    "        ax.set_ylim(*ylim)\n",
    "        ax.yaxis.set_ticks(np.arange(ylim[0], ylim[1] + 1, 50))\n",
    "    if title:\n",
    "        ax.set_title(title)\n",
    "    if ylabel:\n",
    "        ax.set_ylabel(ylabel)\n",
    "\n",
    "    # customise x-axis tick labels\n",
    "    tick_positions = range(len(desired_order))\n",
    "    ax.set_xticks(tick_positions)\n",
    "    tick_labels = ['Male', 'Female']  \n",
    "\n",
    "    ax.set_xticklabels(tick_labels)\n",
    "    ax.set_xlabel('')\n",
    "\n",
    "    # create custom legend handles for Group_ID (WT and KO)\n",
    "    legend_handles = [\n",
    "        Line2D([0], [0], marker='o', color='#c0bec2', markerfacecolor='none', markersize=8, markeredgewidth=1, label='WT'),\n",
    "        Line2D([0], [0], marker='o', color='#915e95', markerfacecolor='none', markersize=8, markeredgewidth=1, label='KO')\n",
    "    ]\n",
    "\n",
    "    # legend outside the plot area\n",
    "    ax.legend(handles=legend_handles, loc='upper left', title='', bbox_to_anchor=(1.05, 1))\n",
    "\n",
    "    # save\n",
    "    plt.savefig(file_path, bbox_inches='tight')\n",
    "\n",
    "# Cohort 2\n",
    "plot_events(cohort2, 'vol', '/Users/hannalemmik/Dropbox/KO_paper/volume/Cohort2_total_vol.pdf', ylim=(400, 550), title='Cohort 2 vol PND90', ylabel='Total brain volume(mm3)')\n"
   ]
  },
  {
   "cell_type": "code",
   "execution_count": 23,
   "metadata": {},
   "outputs": [
    {
     "name": "stdout",
     "output_type": "stream",
     "text": [
      "p-value annotation legend:\n",
      "ns: 5.00e-02 < p <= 1.00e+00\n",
      "*: 1.00e-02 < p <= 5.00e-02\n",
      "**: 1.00e-03 < p <= 1.00e-02\n",
      "***: 1.00e-04 < p <= 1.00e-03\n",
      "****: p <= 1.00e-04\n",
      "\n",
      "F_WT v.s. F_KO: Kruskal-Wallis paired samples with Bonferroni correction, P_val=3.102e-01 stat=3.115e+00\n",
      "M_WT v.s. M_KO: Kruskal-Wallis paired samples with Bonferroni correction, P_val=1.000e+00 stat=7.121e-01\n",
      "M_KO v.s. F_KO: Kruskal-Wallis paired samples with Bonferroni correction, P_val=5.985e-01 stat=2.076e+00\n",
      "M_WT v.s. F_WT: Kruskal-Wallis paired samples with Bonferroni correction, P_val=1.000e+00 stat=7.714e-01\n"
     ]
    },
    {
     "data": {
      "image/png": "[encoded data removed]",
      "text/plain": [
       "<Figure size 200x200 with 1 Axes>"
      ]
     },
     "metadata": {},
     "output_type": "display_data"
    }
   ],
   "source": [
    "# Cohort 1 total brain volume ex vivo\n",
    "plot_events(cohort1_exvivo, 'vol', '/Users/hannalemmik/Dropbox/KO_paper/volume/Cohort1_exvivo_total_vol.pdf', ylim=(450, 550), title='Cohort 1 ex vivo vol', ylabel='Total brain volume(mm3)')\n"
   ]
  },
  {
   "cell_type": "code",
   "execution_count": 24,
   "metadata": {},
   "outputs": [
    {
     "name": "stdout",
     "output_type": "stream",
     "text": [
      "p-value annotation legend:\n",
      "ns: 5.00e-02 < p <= 1.00e+00\n",
      "*: 1.00e-02 < p <= 5.00e-02\n",
      "**: 1.00e-03 < p <= 1.00e-02\n",
      "***: 1.00e-04 < p <= 1.00e-03\n",
      "****: p <= 1.00e-04\n",
      "\n",
      "F_WT v.s. F_KO: Kruskal-Wallis paired samples with Bonferroni correction, P_val=1.000e+00 stat=1.296e+00\n",
      "M_WT v.s. M_KO: Kruskal-Wallis paired samples with Bonferroni correction, P_val=1.000e+00 stat=9.804e-01\n",
      "M_KO v.s. F_KO: Kruskal-Wallis paired samples with Bonferroni correction, P_val=6.702e-01 stat=1.905e+00\n",
      "M_WT v.s. F_WT: Kruskal-Wallis paired samples with Bonferroni correction, P_val=2.117e-03 stat=1.201e+01\n"
     ]
    },
    {
     "data": {
      "image/png": "[encoded data removed]",
      "text/plain": [
       "<Figure size 200x200 with 1 Axes>"
      ]
     },
     "metadata": {},
     "output_type": "display_data"
    }
   ],
   "source": [
    "# Cohort 1 total brain volume PND30\n",
    "plot_events(cohort1_30, 'vol', '/Users/hannalemmik/Dropbox/KO_paper/volume/cohort1_30_vol.pdf', ylim=(350, 510), title='Cohort 1 PND30 vol', ylabel='Total brain volume(mm3)')"
   ]
  },
  {
   "cell_type": "code",
   "execution_count": 25,
   "metadata": {},
   "outputs": [
    {
     "name": "stdout",
     "output_type": "stream",
     "text": [
      "p-value annotation legend:\n",
      "ns: 5.00e-02 < p <= 1.00e+00\n",
      "*: 1.00e-02 < p <= 5.00e-02\n",
      "**: 1.00e-03 < p <= 1.00e-02\n",
      "***: 1.00e-04 < p <= 1.00e-03\n",
      "****: p <= 1.00e-04\n",
      "\n",
      "F_WT v.s. F_KO: Kruskal-Wallis paired samples with Bonferroni correction, P_val=5.159e-01 stat=2.305e+00\n",
      "M_WT v.s. M_KO: Kruskal-Wallis paired samples with Bonferroni correction, P_val=1.000e+00 stat=1.047e+00\n",
      "M_KO v.s. F_KO: Kruskal-Wallis paired samples with Bonferroni correction, P_val=7.593e-01 stat=1.719e+00\n",
      "M_WT v.s. F_WT: Kruskal-Wallis paired samples with Bonferroni correction, P_val=1.000e+00 stat=7.941e-01\n"
     ]
    },
    {
     "data": {
      "image/png": "[encoded data removed]",
      "text/plain": [
       "<Figure size 200x200 with 1 Axes>"
      ]
     },
     "metadata": {},
     "output_type": "display_data"
    }
   ],
   "source": [
    "# Cohort 1 total brain volume PND90\n",
    "plot_events(cohort1_90, 'vol', '/Users/hannalemmik/Dropbox/KO_paper/volume/cohort1_90_vol.pdf', ylim=(420, 530), title='Cohort 1 PND90 vol', ylabel='Total brain volume(mm3)')"
   ]
  },
  {
   "cell_type": "code",
   "execution_count": 26,
   "metadata": {},
   "outputs": [
    {
     "name": "stdout",
     "output_type": "stream",
     "text": [
      "p-value annotation legend:\n",
      "ns: 5.00e-02 < p <= 1.00e+00\n",
      "*: 1.00e-02 < p <= 5.00e-02\n",
      "**: 1.00e-03 < p <= 1.00e-02\n",
      "***: 1.00e-04 < p <= 1.00e-03\n",
      "****: p <= 1.00e-04\n",
      "\n",
      "F_WT v.s. F_KO: Kruskal-Wallis paired samples with Bonferroni correction, P_val=1.000e+00 stat=2.679e-01\n",
      "M_WT v.s. M_KO: Kruskal-Wallis paired samples with Bonferroni correction, P_val=1.000e+00 stat=1.841e-01\n",
      "M_KO v.s. F_KO: Kruskal-Wallis paired samples with Bonferroni correction, P_val=3.701e-03 stat=1.097e+01\n",
      "M_WT v.s. F_WT: Kruskal-Wallis paired samples with Bonferroni correction, P_val=3.045e-03 stat=1.133e+01\n"
     ]
    },
    {
     "data": {
      "image/png": "[encoded data removed]",
      "text/plain": [
       "<Figure size 200x200 with 1 Axes>"
      ]
     },
     "metadata": {},
     "output_type": "display_data"
    }
   ],
   "source": [
    "# ∆adulthood–adolescence total brain volume\n",
    "plot_events(cohort1_30, 'maturation_change', '/Users/hannalemmik/Dropbox/KO_paper/volume/cohort1_maturationchange_vol.pdf', ylim=(0,110), title='Cohort 1 vol change', ylabel='∆Total brain volume(mm3)')"
   ]
  },
  {
   "cell_type": "code",
   "execution_count": 27,
   "metadata": {},
   "outputs": [
    {
     "name": "stdout",
     "output_type": "stream",
     "text": [
      "p-value annotation legend:\n",
      "ns: 5.00e-02 < p <= 1.00e+00\n",
      "*: 1.00e-02 < p <= 5.00e-02\n",
      "**: 1.00e-03 < p <= 1.00e-02\n",
      "***: 1.00e-04 < p <= 1.00e-03\n",
      "****: p <= 1.00e-04\n",
      "\n",
      "F_WT v.s. F_KO: Kruskal-Wallis paired samples with Bonferroni correction, P_val=1.000e+00 stat=1.570e-01\n",
      "M_WT v.s. M_KO: Kruskal-Wallis paired samples with Bonferroni correction, P_val=1.000e+00 stat=4.272e-02\n",
      "M_KO v.s. F_KO: Kruskal-Wallis paired samples with Bonferroni correction, P_val=1.000e+00 stat=0.000e+00\n",
      "M_WT v.s. F_WT: Kruskal-Wallis paired samples with Bonferroni correction, P_val=1.000e+00 stat=3.589e-02\n"
     ]
    },
    {
     "data": {
      "image/png": "[encoded data removed]",
      "text/plain": [
       "<Figure size 200x200 with 1 Axes>"
      ]
     },
     "metadata": {},
     "output_type": "display_data"
    }
   ],
   "source": [
    "plot_events(cohort1_30, 'exvivo_change', '/Users/hannalemmik/Dropbox/KO_paper/volume/cohort1_exvivo_change_vol.pdf', ylim=(0,60), title='Cohort 1 vol change ex vivo', ylabel='∆Total brain volume(mm3)')"
   ]
  },
  {
   "cell_type": "code",
   "execution_count": 28,
   "metadata": {},
   "outputs": [
    {
     "data": {
      "text/html": [
       "<div>\n",
       "<style scoped>\n",
       "    .dataframe tbody tr th:only-of-type {\n",
       "        vertical-align: middle;\n",
       "    }\n",
       "\n",
       "    .dataframe tbody tr th {\n",
       "        vertical-align: top;\n",
       "    }\n",
       "\n",
       "    .dataframe thead th {\n",
       "        text-align: right;\n",
       "    }\n",
       "</style>\n",
       "<table border=\"1\" class=\"dataframe\">\n",
       "  <thead>\n",
       "    <tr style=\"text-align: right;\">\n",
       "      <th></th>\n",
       "      <th>subject</th>\n",
       "      <th>vol</th>\n",
       "      <th>Sex</th>\n",
       "      <th>Genotype</th>\n",
       "      <th>exvivo</th>\n",
       "      <th>90</th>\n",
       "      <th>maturation_change</th>\n",
       "      <th>exvivo_change</th>\n",
       "    </tr>\n",
       "  </thead>\n",
       "  <tbody>\n",
       "    <tr>\n",
       "      <th>63</th>\n",
       "      <td>COMR421c</td>\n",
       "      <td>434.793</td>\n",
       "      <td>M</td>\n",
       "      <td>KO</td>\n",
       "      <td>474.326</td>\n",
       "      <td>472.626</td>\n",
       "      <td>37.833</td>\n",
       "      <td>1.7</td>\n",
       "    </tr>\n",
       "  </tbody>\n",
       "</table>\n",
       "</div>"
      ],
      "text/plain": [
       "     subject      vol Sex Genotype   exvivo       90  maturation_change  \\\n",
       "63  COMR421c  434.793   M       KO  474.326  472.626             37.833   \n",
       "\n",
       "    exvivo_change  \n",
       "63            1.7  "
      ]
     },
     "execution_count": 28,
     "metadata": {},
     "output_type": "execute_result"
    }
   ],
   "source": [
    "# NB there appears to be one outlier:\n",
    "min_row = cohort1_30.loc[cohort1_30['exvivo_change'].idxmin()]\n",
    "min_row_df = pd.DataFrame([min_row])\n",
    "min_row_df"
   ]
  },
  {
   "cell_type": "markdown",
   "metadata": {},
   "source": [
    "## ANOVAs"
   ]
  },
  {
   "cell_type": "code",
   "execution_count": 29,
   "metadata": {},
   "outputs": [],
   "source": [
    "# function to calculate Cohen's D\n",
    "def cohen_d(group1, group2):\n",
    "    diff_mean = group1.mean() - group2.mean()\n",
    "    pooled_std = np.sqrt(((group1.std() ** 2 + group2.std() ** 2) / 2))\n",
    "    return diff_mean / pooled_std\n",
    "\n",
    "# function to calculate effect size r for Mann-Whitney U test\n",
    "def effect_size_r(stat, n1, n2):\n",
    "    return stat / np.sqrt(n1 * n2)"
   ]
  },
  {
   "cell_type": "code",
   "execution_count": 30,
   "metadata": {},
   "outputs": [
    {
     "data": {
      "text/html": [
       "<div>\n",
       "<style scoped>\n",
       "    .dataframe tbody tr th:only-of-type {\n",
       "        vertical-align: middle;\n",
       "    }\n",
       "\n",
       "    .dataframe tbody tr th {\n",
       "        vertical-align: top;\n",
       "    }\n",
       "\n",
       "    .dataframe thead th {\n",
       "        text-align: right;\n",
       "    }\n",
       "</style>\n",
       "<table border=\"1\" class=\"dataframe\">\n",
       "  <thead>\n",
       "    <tr style=\"text-align: right;\">\n",
       "      <th></th>\n",
       "      <th>outcome_measure</th>\n",
       "      <th>shapiro-statistic</th>\n",
       "      <th>shapiro-p-value</th>\n",
       "      <th>levene-stat</th>\n",
       "      <th>levene-p-value</th>\n",
       "      <th>wt-variance</th>\n",
       "      <th>hom-variance</th>\n",
       "      <th>n_wt</th>\n",
       "      <th>n_hom</th>\n",
       "      <th>parametric_assumptions_met</th>\n",
       "    </tr>\n",
       "  </thead>\n",
       "  <tbody>\n",
       "    <tr>\n",
       "      <th>0</th>\n",
       "      <td>exvivo</td>\n",
       "      <td>0.985569</td>\n",
       "      <td>0.630840</td>\n",
       "      <td>0.312760</td>\n",
       "      <td>0.577913</td>\n",
       "      <td>109.207175</td>\n",
       "      <td>135.659834</td>\n",
       "      <td>34</td>\n",
       "      <td>33</td>\n",
       "      <td>True</td>\n",
       "    </tr>\n",
       "    <tr>\n",
       "      <th>1</th>\n",
       "      <td>90</td>\n",
       "      <td>0.977981</td>\n",
       "      <td>0.262638</td>\n",
       "      <td>2.629070</td>\n",
       "      <td>0.109620</td>\n",
       "      <td>87.616627</td>\n",
       "      <td>140.253516</td>\n",
       "      <td>35</td>\n",
       "      <td>34</td>\n",
       "      <td>True</td>\n",
       "    </tr>\n",
       "    <tr>\n",
       "      <th>2</th>\n",
       "      <td>maturation_change</td>\n",
       "      <td>0.972752</td>\n",
       "      <td>0.136046</td>\n",
       "      <td>0.641710</td>\n",
       "      <td>0.425924</td>\n",
       "      <td>151.773275</td>\n",
       "      <td>135.020696</td>\n",
       "      <td>35</td>\n",
       "      <td>34</td>\n",
       "      <td>True</td>\n",
       "    </tr>\n",
       "    <tr>\n",
       "      <th>3</th>\n",
       "      <td>exvivo_change</td>\n",
       "      <td>0.867372</td>\n",
       "      <td>0.000004</td>\n",
       "      <td>0.302061</td>\n",
       "      <td>0.584477</td>\n",
       "      <td>15.964900</td>\n",
       "      <td>31.334824</td>\n",
       "      <td>34</td>\n",
       "      <td>33</td>\n",
       "      <td>False</td>\n",
       "    </tr>\n",
       "  </tbody>\n",
       "</table>\n",
       "</div>"
      ],
      "text/plain": [
       "     outcome_measure  shapiro-statistic  shapiro-p-value  levene-stat  \\\n",
       "0             exvivo           0.985569         0.630840     0.312760   \n",
       "1                 90           0.977981         0.262638     2.629070   \n",
       "2  maturation_change           0.972752         0.136046     0.641710   \n",
       "3      exvivo_change           0.867372         0.000004     0.302061   \n",
       "\n",
       "   levene-p-value  wt-variance  hom-variance  n_wt  n_hom  \\\n",
       "0        0.577913   109.207175    135.659834    34     33   \n",
       "1        0.109620    87.616627    140.253516    35     34   \n",
       "2        0.425924   151.773275    135.020696    35     34   \n",
       "3        0.584477    15.964900     31.334824    34     33   \n",
       "\n",
       "   parametric_assumptions_met  \n",
       "0                        True  \n",
       "1                        True  \n",
       "2                        True  \n",
       "3                       False  "
      ]
     },
     "execution_count": 30,
     "metadata": {},
     "output_type": "execute_result"
    }
   ],
   "source": [
    "# check assumptions \n",
    "\n",
    "\n",
    "numerical_columns = cohort1_30.columns[4:]\n",
    "\n",
    "# create a list to store the normality test results\n",
    "normality_results_list = []\n",
    "\n",
    "# loop through the columns to perform shapiro-wilk normality test\n",
    "for column in numerical_columns:\n",
    "    data = cohort1_30[column].dropna()\n",
    "\n",
    "    if data.notna().any():\n",
    "        # shapiro-wilk test\n",
    "        stat, p_value = shapiro(data.dropna())\n",
    "        normality_results_list.append({'outcome_measure': column, 'shapiro-statistic': stat, 'shapiro-p-value': p_value})\n",
    "    else:\n",
    "        # append none values for empty columns\n",
    "        normality_results_list.append({'outcome_measure': column, 'shapiro-statistic': None, 'shapiro-p-value': None})\n",
    "\n",
    "# convert the list of dictionaries into a dataframe\n",
    "normality_results = pd.DataFrame(normality_results_list)\n",
    "\n",
    "# replace empty spaces with nan\n",
    "cohort1_30.replace(r'^\\s*$', np.nan, regex=True, inplace=True)\n",
    "\n",
    "# filter data for genotypes\n",
    "wt_values = cohort1_30[cohort1_30['Genotype'] == 'WT']\n",
    "hom_values = cohort1_30[cohort1_30['Genotype'] == 'KO']\n",
    "\n",
    "# create a list to store levene's test results\n",
    "levene_results = []\n",
    "\n",
    "# loop through numerical columns for levene's test\n",
    "for column in numerical_columns:\n",
    "\n",
    "    wt_data = wt_values[column].dropna()\n",
    "    hom_data = hom_values[column].dropna()\n",
    "\n",
    "    if wt_data.notna().any() and hom_data.notna().any():\n",
    "        # calculate variances\n",
    "        wt_var = wt_data.var()\n",
    "        hom_var = hom_data.var()\n",
    "        # levene's test for variance equality\n",
    "        stat, p_value = levene(wt_data, hom_data)\n",
    "        # append the results\n",
    "        levene_results.append({\n",
    "            'outcome_measure': column, \n",
    "            'levene-stat': stat, \n",
    "            'levene-p-value': p_value, \n",
    "            'wt-variance': wt_var, \n",
    "            'hom-variance': hom_var, \n",
    "            'n_wt': len(wt_data), \n",
    "            'n_hom': len(hom_data)\n",
    "        })\n",
    "    else:\n",
    "        # append none if data is missing\n",
    "        levene_results.append({\n",
    "            'outcome_measure': column, \n",
    "            'levene-stat': None, \n",
    "            'levene-p-value': None, \n",
    "            'wt-variance': None, \n",
    "            'hom-variance': None, \n",
    "            'n_wt': None, \n",
    "            'n_hom': None\n",
    "        })\n",
    "\n",
    "# convert the list of dictionaries to dataframe\n",
    "levene_results_df = pd.DataFrame(levene_results)\n",
    "\n",
    "# merge the normality results and levene's test results into a single dataframe\n",
    "normality_and_variance = pd.merge(normality_results, levene_results_df, on='outcome_measure')\n",
    "\n",
    "# determine if parametric assumptions are met\n",
    "normality_and_variance['parametric_assumptions_met'] = (\n",
    "    (normality_and_variance['shapiro-p-value'] > 0.05) & \n",
    "    (normality_and_variance['levene-p-value'] > 0.05)\n",
    ")\n",
    "\n",
    "\n",
    "normality_and_variance\n"
   ]
  },
  {
   "cell_type": "code",
   "execution_count": 31,
   "metadata": {},
   "outputs": [
    {
     "data": {
      "text/html": [
       "<div>\n",
       "<style scoped>\n",
       "    .dataframe tbody tr th:only-of-type {\n",
       "        vertical-align: middle;\n",
       "    }\n",
       "\n",
       "    .dataframe tbody tr th {\n",
       "        vertical-align: top;\n",
       "    }\n",
       "\n",
       "    .dataframe thead th {\n",
       "        text-align: right;\n",
       "    }\n",
       "</style>\n",
       "<table border=\"1\" class=\"dataframe\">\n",
       "  <thead>\n",
       "    <tr style=\"text-align: right;\">\n",
       "      <th></th>\n",
       "      <th>Source</th>\n",
       "      <th>SS</th>\n",
       "      <th>DF</th>\n",
       "      <th>MS</th>\n",
       "      <th>F</th>\n",
       "      <th>p-unc</th>\n",
       "      <th>np2</th>\n",
       "    </tr>\n",
       "  </thead>\n",
       "  <tbody>\n",
       "    <tr>\n",
       "      <th>0</th>\n",
       "      <td>Sex</td>\n",
       "      <td>2708.774554</td>\n",
       "      <td>1.0</td>\n",
       "      <td>2708.774554</td>\n",
       "      <td>16.719344</td>\n",
       "      <td>0.000122</td>\n",
       "      <td>0.204595</td>\n",
       "    </tr>\n",
       "    <tr>\n",
       "      <th>1</th>\n",
       "      <td>Genotype</td>\n",
       "      <td>56.543417</td>\n",
       "      <td>1.0</td>\n",
       "      <td>56.543417</td>\n",
       "      <td>0.349002</td>\n",
       "      <td>0.556727</td>\n",
       "      <td>0.005341</td>\n",
       "    </tr>\n",
       "    <tr>\n",
       "      <th>2</th>\n",
       "      <td>Sex * Genotype</td>\n",
       "      <td>527.575520</td>\n",
       "      <td>1.0</td>\n",
       "      <td>527.575520</td>\n",
       "      <td>3.256349</td>\n",
       "      <td>0.075780</td>\n",
       "      <td>0.047708</td>\n",
       "    </tr>\n",
       "    <tr>\n",
       "      <th>3</th>\n",
       "      <td>Residual</td>\n",
       "      <td>10530.936500</td>\n",
       "      <td>65.0</td>\n",
       "      <td>162.014408</td>\n",
       "      <td>NaN</td>\n",
       "      <td>NaN</td>\n",
       "      <td>NaN</td>\n",
       "    </tr>\n",
       "  </tbody>\n",
       "</table>\n",
       "</div>"
      ],
      "text/plain": [
       "           Source            SS    DF           MS          F     p-unc  \\\n",
       "0             Sex   2708.774554   1.0  2708.774554  16.719344  0.000122   \n",
       "1        Genotype     56.543417   1.0    56.543417   0.349002  0.556727   \n",
       "2  Sex * Genotype    527.575520   1.0   527.575520   3.256349  0.075780   \n",
       "3        Residual  10530.936500  65.0   162.014408        NaN       NaN   \n",
       "\n",
       "        np2  \n",
       "0  0.204595  \n",
       "1  0.005341  \n",
       "2  0.047708  \n",
       "3       NaN  "
      ]
     },
     "execution_count": 31,
     "metadata": {},
     "output_type": "execute_result"
    }
   ],
   "source": [
    "# Cohort 1 PND30 two-way ANOVA\n",
    "anova_results = pg.anova(dv='vol', between=['Sex', 'Genotype'], data=cohort1_30, detailed=True)\n",
    "anova_results\n"
   ]
  },
  {
   "cell_type": "code",
   "execution_count": 32,
   "metadata": {},
   "outputs": [
    {
     "data": {
      "text/html": [
       "<div>\n",
       "<style scoped>\n",
       "    .dataframe tbody tr th:only-of-type {\n",
       "        vertical-align: middle;\n",
       "    }\n",
       "\n",
       "    .dataframe tbody tr th {\n",
       "        vertical-align: top;\n",
       "    }\n",
       "\n",
       "    .dataframe thead th {\n",
       "        text-align: right;\n",
       "    }\n",
       "</style>\n",
       "<table border=\"1\" class=\"dataframe\">\n",
       "  <thead>\n",
       "    <tr style=\"text-align: right;\">\n",
       "      <th></th>\n",
       "      <th>Source</th>\n",
       "      <th>SS</th>\n",
       "      <th>DF</th>\n",
       "      <th>MS</th>\n",
       "      <th>F</th>\n",
       "      <th>p-unc</th>\n",
       "      <th>np2</th>\n",
       "    </tr>\n",
       "  </thead>\n",
       "  <tbody>\n",
       "    <tr>\n",
       "      <th>0</th>\n",
       "      <td>Sex</td>\n",
       "      <td>212.610841</td>\n",
       "      <td>1.0</td>\n",
       "      <td>212.610841</td>\n",
       "      <td>1.335473</td>\n",
       "      <td>0.256133</td>\n",
       "      <td>0.038895</td>\n",
       "    </tr>\n",
       "    <tr>\n",
       "      <th>1</th>\n",
       "      <td>Genotype</td>\n",
       "      <td>208.415524</td>\n",
       "      <td>1.0</td>\n",
       "      <td>208.415524</td>\n",
       "      <td>1.309121</td>\n",
       "      <td>0.260786</td>\n",
       "      <td>0.038157</td>\n",
       "    </tr>\n",
       "    <tr>\n",
       "      <th>2</th>\n",
       "      <td>Sex * Genotype</td>\n",
       "      <td>589.007237</td>\n",
       "      <td>1.0</td>\n",
       "      <td>589.007237</td>\n",
       "      <td>3.699733</td>\n",
       "      <td>0.063084</td>\n",
       "      <td>0.100811</td>\n",
       "    </tr>\n",
       "    <tr>\n",
       "      <th>3</th>\n",
       "      <td>Residual</td>\n",
       "      <td>5253.686814</td>\n",
       "      <td>33.0</td>\n",
       "      <td>159.202631</td>\n",
       "      <td>NaN</td>\n",
       "      <td>NaN</td>\n",
       "      <td>NaN</td>\n",
       "    </tr>\n",
       "  </tbody>\n",
       "</table>\n",
       "</div>"
      ],
      "text/plain": [
       "           Source           SS    DF          MS         F     p-unc       np2\n",
       "0             Sex   212.610841   1.0  212.610841  1.335473  0.256133  0.038895\n",
       "1        Genotype   208.415524   1.0  208.415524  1.309121  0.260786  0.038157\n",
       "2  Sex * Genotype   589.007237   1.0  589.007237  3.699733  0.063084  0.100811\n",
       "3        Residual  5253.686814  33.0  159.202631       NaN       NaN       NaN"
      ]
     },
     "execution_count": 32,
     "metadata": {},
     "output_type": "execute_result"
    }
   ],
   "source": [
    "#Cohort 2 (PND90) two-way ANOVA\n",
    "anova_results = pg.anova(dv='vol', between=['Sex', 'Genotype'], data=cohort2, detailed=True)\n",
    "anova_results"
   ]
  },
  {
   "cell_type": "code",
   "execution_count": 33,
   "metadata": {},
   "outputs": [
    {
     "data": {
      "text/html": [
       "<div>\n",
       "<style scoped>\n",
       "    .dataframe tbody tr th:only-of-type {\n",
       "        vertical-align: middle;\n",
       "    }\n",
       "\n",
       "    .dataframe tbody tr th {\n",
       "        vertical-align: top;\n",
       "    }\n",
       "\n",
       "    .dataframe thead th {\n",
       "        text-align: right;\n",
       "    }\n",
       "</style>\n",
       "<table border=\"1\" class=\"dataframe\">\n",
       "  <thead>\n",
       "    <tr style=\"text-align: right;\">\n",
       "      <th></th>\n",
       "      <th>Source</th>\n",
       "      <th>SS</th>\n",
       "      <th>DF</th>\n",
       "      <th>MS</th>\n",
       "      <th>F</th>\n",
       "      <th>p-unc</th>\n",
       "      <th>np2</th>\n",
       "    </tr>\n",
       "  </thead>\n",
       "  <tbody>\n",
       "    <tr>\n",
       "      <th>0</th>\n",
       "      <td>Sex</td>\n",
       "      <td>29.153804</td>\n",
       "      <td>1.0</td>\n",
       "      <td>29.153804</td>\n",
       "      <td>0.262906</td>\n",
       "      <td>0.609869</td>\n",
       "      <td>0.004028</td>\n",
       "    </tr>\n",
       "    <tr>\n",
       "      <th>1</th>\n",
       "      <td>Genotype</td>\n",
       "      <td>82.659458</td>\n",
       "      <td>1.0</td>\n",
       "      <td>82.659458</td>\n",
       "      <td>0.745413</td>\n",
       "      <td>0.391107</td>\n",
       "      <td>0.011338</td>\n",
       "    </tr>\n",
       "    <tr>\n",
       "      <th>2</th>\n",
       "      <td>Sex * Genotype</td>\n",
       "      <td>370.275233</td>\n",
       "      <td>1.0</td>\n",
       "      <td>370.275233</td>\n",
       "      <td>3.339098</td>\n",
       "      <td>0.072243</td>\n",
       "      <td>0.048861</td>\n",
       "    </tr>\n",
       "    <tr>\n",
       "      <th>3</th>\n",
       "      <td>Residual</td>\n",
       "      <td>7207.902296</td>\n",
       "      <td>65.0</td>\n",
       "      <td>110.890805</td>\n",
       "      <td>NaN</td>\n",
       "      <td>NaN</td>\n",
       "      <td>NaN</td>\n",
       "    </tr>\n",
       "  </tbody>\n",
       "</table>\n",
       "</div>"
      ],
      "text/plain": [
       "           Source           SS    DF          MS         F     p-unc       np2\n",
       "0             Sex    29.153804   1.0   29.153804  0.262906  0.609869  0.004028\n",
       "1        Genotype    82.659458   1.0   82.659458  0.745413  0.391107  0.011338\n",
       "2  Sex * Genotype   370.275233   1.0  370.275233  3.339098  0.072243  0.048861\n",
       "3        Residual  7207.902296  65.0  110.890805       NaN       NaN       NaN"
      ]
     },
     "execution_count": 33,
     "metadata": {},
     "output_type": "execute_result"
    }
   ],
   "source": [
    "# Cohort 2 PND90 two-way ANOVA\n",
    "anova_results = pg.anova(dv='vol', between=['Sex', 'Genotype'], data=cohort1_90, detailed=True)\n",
    "anova_results"
   ]
  },
  {
   "cell_type": "code",
   "execution_count": 34,
   "metadata": {},
   "outputs": [
    {
     "data": {
      "text/html": [
       "<div>\n",
       "<style scoped>\n",
       "    .dataframe tbody tr th:only-of-type {\n",
       "        vertical-align: middle;\n",
       "    }\n",
       "\n",
       "    .dataframe tbody tr th {\n",
       "        vertical-align: top;\n",
       "    }\n",
       "\n",
       "    .dataframe thead th {\n",
       "        text-align: right;\n",
       "    }\n",
       "</style>\n",
       "<table border=\"1\" class=\"dataframe\">\n",
       "  <thead>\n",
       "    <tr style=\"text-align: right;\">\n",
       "      <th></th>\n",
       "      <th>Source</th>\n",
       "      <th>SS</th>\n",
       "      <th>DF</th>\n",
       "      <th>MS</th>\n",
       "      <th>F</th>\n",
       "      <th>p-unc</th>\n",
       "      <th>np2</th>\n",
       "    </tr>\n",
       "  </thead>\n",
       "  <tbody>\n",
       "    <tr>\n",
       "      <th>0</th>\n",
       "      <td>Sex</td>\n",
       "      <td>3299.964233</td>\n",
       "      <td>1.0</td>\n",
       "      <td>3299.964233</td>\n",
       "      <td>34.035778</td>\n",
       "      <td>1.864484e-07</td>\n",
       "      <td>0.343672</td>\n",
       "    </tr>\n",
       "    <tr>\n",
       "      <th>1</th>\n",
       "      <td>Genotype</td>\n",
       "      <td>2.471778</td>\n",
       "      <td>1.0</td>\n",
       "      <td>2.471778</td>\n",
       "      <td>0.025494</td>\n",
       "      <td>8.736377e-01</td>\n",
       "      <td>0.000392</td>\n",
       "    </tr>\n",
       "    <tr>\n",
       "      <th>2</th>\n",
       "      <td>Sex * Genotype</td>\n",
       "      <td>13.886617</td>\n",
       "      <td>1.0</td>\n",
       "      <td>13.886617</td>\n",
       "      <td>0.143226</td>\n",
       "      <td>7.063277e-01</td>\n",
       "      <td>0.002199</td>\n",
       "    </tr>\n",
       "    <tr>\n",
       "      <th>3</th>\n",
       "      <td>Residual</td>\n",
       "      <td>6302.123450</td>\n",
       "      <td>65.0</td>\n",
       "      <td>96.955745</td>\n",
       "      <td>NaN</td>\n",
       "      <td>NaN</td>\n",
       "      <td>NaN</td>\n",
       "    </tr>\n",
       "  </tbody>\n",
       "</table>\n",
       "</div>"
      ],
      "text/plain": [
       "           Source           SS    DF           MS          F         p-unc  \\\n",
       "0             Sex  3299.964233   1.0  3299.964233  34.035778  1.864484e-07   \n",
       "1        Genotype     2.471778   1.0     2.471778   0.025494  8.736377e-01   \n",
       "2  Sex * Genotype    13.886617   1.0    13.886617   0.143226  7.063277e-01   \n",
       "3        Residual  6302.123450  65.0    96.955745        NaN           NaN   \n",
       "\n",
       "        np2  \n",
       "0  0.343672  \n",
       "1  0.000392  \n",
       "2  0.002199  \n",
       "3       NaN  "
      ]
     },
     "execution_count": 34,
     "metadata": {},
     "output_type": "execute_result"
    }
   ],
   "source": [
    "# Cohort 1 maturation change \n",
    "anova_results = pg.anova(dv='maturation_change', between=['Sex', 'Genotype'], data=cohort1_30, detailed=True)\n",
    "anova_results\n"
   ]
  }
 ],
 "metadata": {
  "kernelspec": {
   "display_name": "python3119",
   "language": "python",
   "name": "python3"
  },
  "language_info": {
   "codemirror_mode": {
    "name": "ipython",
    "version": 3
   },
   "file_extension": ".py",
   "mimetype": "text/x-python",
   "name": "python",
   "nbconvert_exporter": "python",
   "pygments_lexer": "ipython3",
   "version": "3.11.9"
  }
 },
 "nbformat": 4,
 "nbformat_minor": 2
}
